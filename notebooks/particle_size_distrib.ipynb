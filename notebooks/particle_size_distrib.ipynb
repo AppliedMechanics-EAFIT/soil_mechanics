{
 "cells": [
  {
   "attachments": {},
   "cell_type": "markdown",
   "metadata": {},
   "source": [
    "# Distribución granulométrica de suelos\n",
    "\n",
    "© 2023 Daniel F. Ruiz, Exneyder A. Montoya-Araque y Universidad EAFIT.\n",
    "\n",
    "Este notebook se puede ejecutar interactivamente en [Google - Colab](https://colab.research.google.com/github/AppliedMechanics-EAFIT/soil_mechanics/blob/main/notebooks/particle_size_distrib.ipynb).\n",
    "\n",
    "Las rutinas de clasificación se basan parcialmente en la norma [ASTM ASTM D6913/D6913M-17](https://www.astm.org/d6913-04r09e01.html)"
   ]
  },
  {
   "cell_type": "markdown",
   "metadata": {},
   "source": [
    "## Required modules"
   ]
  },
  {
   "cell_type": "code",
   "execution_count": 1,
   "metadata": {},
   "outputs": [],
   "source": [
    "if 'google.colab' in str(get_ipython()):\n",
    "    from google.colab import files\n",
    "else:\n",
    "    import tkinter as tk\n",
    "    from tkinter.filedialog import askopenfilename\n",
    "import numpy as np\n",
    "import pandas as pd\n",
    "import matplotlib.pyplot as plt\n",
    "import matplotlib as mpl\n",
    "from ipywidgets import interact, widgets, fixed"
   ]
  },
  {
   "cell_type": "markdown",
   "metadata": {},
   "source": [
    "## Global configuration for plots"
   ]
  },
  {
   "cell_type": "code",
   "execution_count": 2,
   "metadata": {},
   "outputs": [],
   "source": [
    "plt.style.use(\"default\")\n",
    "mpl.rcParams.update(\n",
    "    {\n",
    "        \"font.family\": \"serif\",  # Use the Computer modern font\n",
    "        \"font.serif\": \"cmr10\",\n",
    "        \"mathtext.fontset\": \"cm\",\n",
    "        \"axes.formatter.use_mathtext\": True,\n",
    "        \"axes.unicode_minus\": False,\n",
    "    }\n",
    ")\n",
    "pd.set_option('display.float_format', '{:.1f}'.format)\n"
   ]
  },
  {
   "attachments": {},
   "cell_type": "markdown",
   "metadata": {},
   "source": [
    "# Reading the input data"
   ]
  },
  {
   "cell_type": "code",
   "execution_count": 3,
   "metadata": {},
   "outputs": [],
   "source": [
    "if 'google.colab' in str(get_ipython()):\n",
    "    file = files.upload()\n",
    "    df = pd.read_excel(list(file.values())[0])\n",
    "else:\n",
    "    tk.Tk().withdraw() # part of the import if you are not using other tkinter functions\n",
    "    file = askopenfilename()\n",
    "    df = pd.read_excel(file)"
   ]
  },
  {
   "attachments": {},
   "cell_type": "markdown",
   "metadata": {},
   "source": [
    "# Tabulated input data"
   ]
  },
  {
   "cell_type": "code",
   "execution_count": 4,
   "metadata": {},
   "outputs": [
    {
     "data": {
      "text/html": [
       "<div>\n",
       "<style scoped>\n",
       "    .dataframe tbody tr th:only-of-type {\n",
       "        vertical-align: middle;\n",
       "    }\n",
       "\n",
       "    .dataframe tbody tr th {\n",
       "        vertical-align: top;\n",
       "    }\n",
       "\n",
       "    .dataframe thead th {\n",
       "        text-align: right;\n",
       "    }\n",
       "</style>\n",
       "<table border=\"1\" class=\"dataframe\">\n",
       "  <thead>\n",
       "    <tr style=\"text-align: right;\">\n",
       "      <th></th>\n",
       "      <th>Tamiz</th>\n",
       "      <th>Abertura_(mm)</th>\n",
       "      <th>Retenido_(g)</th>\n",
       "    </tr>\n",
       "  </thead>\n",
       "  <tbody>\n",
       "    <tr>\n",
       "      <th>0</th>\n",
       "      <td>2 1/2\"</td>\n",
       "      <td>63.5</td>\n",
       "      <td>NaN</td>\n",
       "    </tr>\n",
       "    <tr>\n",
       "      <th>1</th>\n",
       "      <td>2\"</td>\n",
       "      <td>50.8</td>\n",
       "      <td>NaN</td>\n",
       "    </tr>\n",
       "    <tr>\n",
       "      <th>2</th>\n",
       "      <td>1 1/2\"</td>\n",
       "      <td>38.1</td>\n",
       "      <td>NaN</td>\n",
       "    </tr>\n",
       "    <tr>\n",
       "      <th>3</th>\n",
       "      <td>1\"</td>\n",
       "      <td>25.4</td>\n",
       "      <td>NaN</td>\n",
       "    </tr>\n",
       "    <tr>\n",
       "      <th>4</th>\n",
       "      <td>3/4\"</td>\n",
       "      <td>19.1</td>\n",
       "      <td>NaN</td>\n",
       "    </tr>\n",
       "    <tr>\n",
       "      <th>5</th>\n",
       "      <td>1/2\"</td>\n",
       "      <td>12.7</td>\n",
       "      <td>0.0</td>\n",
       "    </tr>\n",
       "    <tr>\n",
       "      <th>6</th>\n",
       "      <td>4</td>\n",
       "      <td>4.8</td>\n",
       "      <td>0.0</td>\n",
       "    </tr>\n",
       "    <tr>\n",
       "      <th>7</th>\n",
       "      <td>8</td>\n",
       "      <td>2.4</td>\n",
       "      <td>3.4</td>\n",
       "    </tr>\n",
       "    <tr>\n",
       "      <th>8</th>\n",
       "      <td>10</td>\n",
       "      <td>2.0</td>\n",
       "      <td>1.8</td>\n",
       "    </tr>\n",
       "    <tr>\n",
       "      <th>9</th>\n",
       "      <td>30</td>\n",
       "      <td>0.6</td>\n",
       "      <td>42.5</td>\n",
       "    </tr>\n",
       "    <tr>\n",
       "      <th>10</th>\n",
       "      <td>40</td>\n",
       "      <td>0.4</td>\n",
       "      <td>22.3</td>\n",
       "    </tr>\n",
       "    <tr>\n",
       "      <th>11</th>\n",
       "      <td>100</td>\n",
       "      <td>0.1</td>\n",
       "      <td>88.0</td>\n",
       "    </tr>\n",
       "    <tr>\n",
       "      <th>12</th>\n",
       "      <td>200</td>\n",
       "      <td>0.1</td>\n",
       "      <td>100.5</td>\n",
       "    </tr>\n",
       "    <tr>\n",
       "      <th>13</th>\n",
       "      <td>Fondo</td>\n",
       "      <td>NaN</td>\n",
       "      <td>7.0</td>\n",
       "    </tr>\n",
       "  </tbody>\n",
       "</table>\n",
       "</div>"
      ],
      "text/plain": [
       "     Tamiz  Abertura_(mm)  Retenido_(g)\n",
       "0   2 1/2\"           63.5           NaN\n",
       "1       2\"           50.8           NaN\n",
       "2   1 1/2\"           38.1           NaN\n",
       "3       1\"           25.4           NaN\n",
       "4     3/4\"           19.1           NaN\n",
       "5     1/2\"           12.7           0.0\n",
       "6        4            4.8           0.0\n",
       "7        8            2.4           3.4\n",
       "8       10            2.0           1.8\n",
       "9       30            0.6          42.5\n",
       "10      40            0.4          22.3\n",
       "11     100            0.1          88.0\n",
       "12     200            0.1         100.5\n",
       "13   Fondo            NaN           7.0"
      ]
     },
     "execution_count": 4,
     "metadata": {},
     "output_type": "execute_result"
    }
   ],
   "source": [
    "df"
   ]
  },
  {
   "cell_type": "markdown",
   "metadata": {},
   "source": [
    "## Funciones"
   ]
  },
  {
   "cell_type": "code",
   "execution_count": 5,
   "metadata": {},
   "outputs": [],
   "source": [
    "def complete_table(df, total_sample_weight, washed_weight):\n",
    "    df_full = df.fillna(0, inplace=False)\n",
    "    washed_fines = total_sample_weight - washed_weight\n",
    "    # df_full.iat[-1, df_full.columns.get_loc('Retenido_(g)')] = 3\n",
    "    df_full.loc[len(df_full)-1, 'Retenido_(g)'] = df_full['Retenido_(g)'].iloc[-1] + washed_fines\n",
    "    # df_full['Retenido_(g)'].iloc[-1] = df_full['Retenido_(g)'].copy().iloc[-1] + washed_fines\n",
    "    total_weight = df_full['Retenido_(g)'].sum()\n",
    "    df_full['Retenido_(%)'] = 100 * df_full['Retenido_(g)'] / total_weight\n",
    "    df_full['Retenido_acum_(%)'] = 100 * np.cumsum(df_full['Retenido_(g)']) / total_weight\n",
    "    df_full['No_retenido_(%)'] = 100 - df_full['Retenido_acum_(%)']\n",
    "    return df_full"
   ]
  },
  {
   "cell_type": "code",
   "execution_count": 6,
   "metadata": {},
   "outputs": [],
   "source": [
    "def plot_granulometric_curve(df, figsize=None):\n",
    "    figsize = [6.5, 5.5] if figsize is None else figsize\n",
    "    sieve = ['4', '10', '20', '40', '100', '200']\n",
    "    diameters = [4.75, 2, 0.84, 0.42, 0.149, 0.074]\n",
    "    fig, ax = plt.subplots(ncols=1, nrows=1, figsize=figsize)\n",
    "    ax.semilogx(\n",
    "        df['Abertura_(mm)'].iloc[:-1], df['No_retenido_(%)'].iloc[:-1], \"-b\")\n",
    "    # Format\n",
    "    # ax.legend(loc='center left', bbox_to_anchor=(1, 0.5))\n",
    "    ax.grid(True, which='both', ls=\"--\", lw=0.5)\n",
    "    # ax.set_aspect(\"equal\", anchor=None)\n",
    "    ax.set(xlabel='Diameter [mm]', ylabel='Percent passing [%]')\n",
    "    ax.set_xlim(100, 1e-2)\n",
    "    ax.set_ylim(0, 100)\n",
    "    [ax.spines[i].set_linewidth(1.5) for i in [\"bottom\", \"left\", \"top\", \"left\"]]\n",
    "    # Upper axis labels\n",
    "    ax_twiny = ax.twiny()\n",
    "    ax_twiny.semilogx(\n",
    "        df['Abertura_(mm)'].iloc[:-1], df['No_retenido_(%)'].iloc[:-1], \".b\")\n",
    "    ax_twiny.set_xlim(ax.get_xlim())\n",
    "    ax_twiny.set_xlabel(\"Sieve N$^\\circ$\")\n",
    "    ax_twiny.minorticks_off()\n",
    "    ax_twiny.set_xticks(diameters)\n",
    "    ax_twiny.set_xticklabels(sieve)\n",
    "    fig.tight_layout()\n",
    "    return fig"
   ]
  },
  {
   "cell_type": "code",
   "execution_count": 7,
   "metadata": {},
   "outputs": [],
   "source": [
    "def get_Cc_Cu(df, hztl, D60=1, D30=1, D10=1):\n",
    "    figsize = [6.5, 4.5]# if figsize is None else figsize\n",
    "    sieve = ['4', '10', '20', '40', '100', '200']\n",
    "    diameters = [4.75, 2, 0.84, 0.42, 0.149, 0.074]\n",
    "    fig, ax = plt.subplots(ncols=1, nrows=1, figsize=figsize)\n",
    "    if D60==1 and  D30==1 and D10==1:\n",
    "        label = f'Cc: -\\nCu: -'\n",
    "    else:\n",
    "        Cu = D60/D10\n",
    "        Cc = D30**2/(D60*D10)\n",
    "        label = f'Cc: {Cc:.1f}\\nCu: {Cu:.1f}'\n",
    "    ax.semilogx(\n",
    "        df['Abertura_(mm)'].iloc[:-1], df['No_retenido_(%)'].iloc[:-1], \"-b\", label=label)\n",
    "    # Format\n",
    "    ax.legend(loc='center left', bbox_to_anchor=(1, 0.5))\n",
    "    ax.grid(True, which='both', ls=\"--\", lw=0.5)\n",
    "    ax.set(xlabel='Diameter [mm]', ylabel='Percent passing [%]')\n",
    "    ax.set_xlim(100, 1e-2)\n",
    "    ax.set_ylim(0, 100)\n",
    "    [ax.spines[i].set_linewidth(1.5) for i in [\"bottom\", \"left\", \"top\", \"left\"]]\n",
    "    ax.axhline(hztl, ls='--', c='k', lw='.75')\n",
    "    ax.axvline(D60, ls='--', c='r', lw='1')\n",
    "    ax.axvline(D30, ls='--', c='g', lw='1')\n",
    "    ax.axvline(D10, ls='--', c='c', lw='1')\n",
    "    # Upper axis labels\n",
    "    ax_twiny = ax.twiny()\n",
    "    ax_twiny.semilogx(\n",
    "        df['Abertura_(mm)'].iloc[:-1], df['No_retenido_(%)'].iloc[:-1], \".b\")\n",
    "    ax_twiny.set_xlim(ax.get_xlim())\n",
    "    ax_twiny.set_xlabel(\"Sieve N$^\\circ$\")\n",
    "    ax_twiny.minorticks_off()\n",
    "    ax_twiny.set_xticks(diameters)\n",
    "    ax_twiny.set_xticklabels(sieve)\n",
    "    fig.tight_layout()\n",
    "    return"
   ]
  },
  {
   "attachments": {},
   "cell_type": "markdown",
   "metadata": {},
   "source": [
    "# Completting the table"
   ]
  },
  {
   "cell_type": "code",
   "execution_count": 8,
   "metadata": {},
   "outputs": [
    {
     "data": {
      "text/html": [
       "<div>\n",
       "<style scoped>\n",
       "    .dataframe tbody tr th:only-of-type {\n",
       "        vertical-align: middle;\n",
       "    }\n",
       "\n",
       "    .dataframe tbody tr th {\n",
       "        vertical-align: top;\n",
       "    }\n",
       "\n",
       "    .dataframe thead th {\n",
       "        text-align: right;\n",
       "    }\n",
       "</style>\n",
       "<table border=\"1\" class=\"dataframe\">\n",
       "  <thead>\n",
       "    <tr style=\"text-align: right;\">\n",
       "      <th></th>\n",
       "      <th>Tamiz</th>\n",
       "      <th>Abertura_(mm)</th>\n",
       "      <th>Retenido_(g)</th>\n",
       "      <th>Retenido_(%)</th>\n",
       "      <th>Retenido_acum_(%)</th>\n",
       "      <th>No_retenido_(%)</th>\n",
       "    </tr>\n",
       "  </thead>\n",
       "  <tbody>\n",
       "    <tr>\n",
       "      <th>0</th>\n",
       "      <td>2 1/2\"</td>\n",
       "      <td>63.5</td>\n",
       "      <td>0.0</td>\n",
       "      <td>0.0</td>\n",
       "      <td>0.0</td>\n",
       "      <td>100.0</td>\n",
       "    </tr>\n",
       "    <tr>\n",
       "      <th>1</th>\n",
       "      <td>2\"</td>\n",
       "      <td>50.8</td>\n",
       "      <td>0.0</td>\n",
       "      <td>0.0</td>\n",
       "      <td>0.0</td>\n",
       "      <td>100.0</td>\n",
       "    </tr>\n",
       "    <tr>\n",
       "      <th>2</th>\n",
       "      <td>1 1/2\"</td>\n",
       "      <td>38.1</td>\n",
       "      <td>0.0</td>\n",
       "      <td>0.0</td>\n",
       "      <td>0.0</td>\n",
       "      <td>100.0</td>\n",
       "    </tr>\n",
       "    <tr>\n",
       "      <th>3</th>\n",
       "      <td>1\"</td>\n",
       "      <td>25.4</td>\n",
       "      <td>0.0</td>\n",
       "      <td>0.0</td>\n",
       "      <td>0.0</td>\n",
       "      <td>100.0</td>\n",
       "    </tr>\n",
       "    <tr>\n",
       "      <th>4</th>\n",
       "      <td>3/4\"</td>\n",
       "      <td>19.1</td>\n",
       "      <td>0.0</td>\n",
       "      <td>0.0</td>\n",
       "      <td>0.0</td>\n",
       "      <td>100.0</td>\n",
       "    </tr>\n",
       "    <tr>\n",
       "      <th>5</th>\n",
       "      <td>1/2\"</td>\n",
       "      <td>12.7</td>\n",
       "      <td>0.0</td>\n",
       "      <td>0.0</td>\n",
       "      <td>0.0</td>\n",
       "      <td>100.0</td>\n",
       "    </tr>\n",
       "    <tr>\n",
       "      <th>6</th>\n",
       "      <td>4</td>\n",
       "      <td>4.8</td>\n",
       "      <td>0.0</td>\n",
       "      <td>0.0</td>\n",
       "      <td>0.0</td>\n",
       "      <td>100.0</td>\n",
       "    </tr>\n",
       "    <tr>\n",
       "      <th>7</th>\n",
       "      <td>8</td>\n",
       "      <td>2.4</td>\n",
       "      <td>3.4</td>\n",
       "      <td>0.8</td>\n",
       "      <td>0.8</td>\n",
       "      <td>99.2</td>\n",
       "    </tr>\n",
       "    <tr>\n",
       "      <th>8</th>\n",
       "      <td>10</td>\n",
       "      <td>2.0</td>\n",
       "      <td>1.8</td>\n",
       "      <td>0.4</td>\n",
       "      <td>1.2</td>\n",
       "      <td>98.8</td>\n",
       "    </tr>\n",
       "    <tr>\n",
       "      <th>9</th>\n",
       "      <td>30</td>\n",
       "      <td>0.6</td>\n",
       "      <td>42.5</td>\n",
       "      <td>9.6</td>\n",
       "      <td>10.8</td>\n",
       "      <td>89.2</td>\n",
       "    </tr>\n",
       "    <tr>\n",
       "      <th>10</th>\n",
       "      <td>40</td>\n",
       "      <td>0.4</td>\n",
       "      <td>22.3</td>\n",
       "      <td>5.0</td>\n",
       "      <td>15.8</td>\n",
       "      <td>84.2</td>\n",
       "    </tr>\n",
       "    <tr>\n",
       "      <th>11</th>\n",
       "      <td>100</td>\n",
       "      <td>0.1</td>\n",
       "      <td>88.0</td>\n",
       "      <td>19.9</td>\n",
       "      <td>35.7</td>\n",
       "      <td>64.3</td>\n",
       "    </tr>\n",
       "    <tr>\n",
       "      <th>12</th>\n",
       "      <td>200</td>\n",
       "      <td>0.1</td>\n",
       "      <td>100.5</td>\n",
       "      <td>22.7</td>\n",
       "      <td>58.4</td>\n",
       "      <td>41.6</td>\n",
       "    </tr>\n",
       "    <tr>\n",
       "      <th>13</th>\n",
       "      <td>Fondo</td>\n",
       "      <td>0.0</td>\n",
       "      <td>184.1</td>\n",
       "      <td>41.6</td>\n",
       "      <td>100.0</td>\n",
       "      <td>0.0</td>\n",
       "    </tr>\n",
       "  </tbody>\n",
       "</table>\n",
       "</div>"
      ],
      "text/plain": [
       "     Tamiz  Abertura_(mm)  Retenido_(g)  Retenido_(%)  Retenido_acum_(%)  \\\n",
       "0   2 1/2\"           63.5           0.0           0.0                0.0   \n",
       "1       2\"           50.8           0.0           0.0                0.0   \n",
       "2   1 1/2\"           38.1           0.0           0.0                0.0   \n",
       "3       1\"           25.4           0.0           0.0                0.0   \n",
       "4     3/4\"           19.1           0.0           0.0                0.0   \n",
       "5     1/2\"           12.7           0.0           0.0                0.0   \n",
       "6        4            4.8           0.0           0.0                0.0   \n",
       "7        8            2.4           3.4           0.8                0.8   \n",
       "8       10            2.0           1.8           0.4                1.2   \n",
       "9       30            0.6          42.5           9.6               10.8   \n",
       "10      40            0.4          22.3           5.0               15.8   \n",
       "11     100            0.1          88.0          19.9               35.7   \n",
       "12     200            0.1         100.5          22.7               58.4   \n",
       "13   Fondo            0.0         184.1          41.6              100.0   \n",
       "\n",
       "    No_retenido_(%)  \n",
       "0             100.0  \n",
       "1             100.0  \n",
       "2             100.0  \n",
       "3             100.0  \n",
       "4             100.0  \n",
       "5             100.0  \n",
       "6             100.0  \n",
       "7              99.2  \n",
       "8              98.8  \n",
       "9              89.2  \n",
       "10             84.2  \n",
       "11             64.3  \n",
       "12             41.6  \n",
       "13              0.0  "
      ]
     },
     "execution_count": 8,
     "metadata": {},
     "output_type": "execute_result"
    }
   ],
   "source": [
    "df_full = complete_table(df, total_sample_weight=442.7, washed_weight=265.56)\n",
    "df_full"
   ]
  },
  {
   "attachments": {},
   "cell_type": "markdown",
   "metadata": {},
   "source": [
    "# Visualizing the granulometric curve"
   ]
  },
  {
   "cell_type": "code",
   "execution_count": 9,
   "metadata": {},
   "outputs": [
    {
     "data": {
      "image/png": "[encoded data removed]",
      "image/svg+xml": "<?xml version=\"1.0\" encoding=\"utf-8\" standalone=\"no\"?>\n<!DOCTYPE svg PUBLIC \"-//W3C//DTD SVG 1.1//EN\"\n  \"http://www.w3.org/Graphics/SVG/1.1/DTD/svg11.dtd\">\n<svg xmlns:xlink=\"http://www.w3.org/1999/xlink\" width=\"459.869158pt\" height=\"277.650531pt\" viewBox=\"0 0 459.869158 277.650531\" xmlns=\"http://www.w3.org/2000/svg\" version=\"1.1\">\n <metadata>\n  <rdf:RDF xmlns:dc=\"http://purl.org/dc/elements/1.1/\" xmlns:cc=\"http://creativecommons.org/ns#\" xmlns:rdf=\"http://www.w3.org/1999/02/22-rdf-syntax-ns#\">\n   <cc:Work>\n    <dc:type rdf:resource=\"http://purl.org/dc/dcmitype/StillImage\"/>\n    <dc:date>2023-03-15T12:37:38.158516</dc:date>\n    <dc:format>image/svg+xml</dc:format>\n    <dc:creator>\n     <cc:Agent>\n      <dc:title>Matplotlib v3.6.0, https://matplotlib.org/</dc:title>\n     </cc:Agent>\n    </dc:creator>\n   </cc:Work>\n  </rdf:RDF>\n </metadata>\n <defs>\n  <style type=\"text/css\">*{stroke-linejoin: round; stroke-linecap: butt}</style>\n </defs>\n <g id=\"figure_1\">\n  <g id=\"patch_1\">\n   <path d=\"M 0 277.650531 \nL 459.869158 277.650531 \nL 459.869158 0 \nL 0 0 \nz\n\" style=\"fill: #ffffff\"/>\n  </g>\n  <g id=\"axes_1\">\n   <g id=\"patch_2\">\n    <path d=\"M 43.2 240.550531 \nL 442.619158 240.550531 \nL 442.619158 34.017188 \nL 43.2 34.017188 \nz\n\" style=\"fill: #ffffff\"/>\n   </g>\n   <g id=\"matplotlib.axis_1\">\n    <g id=\"xtick_1\">\n     <g id=\"line2d_1\">\n      <path d=\"M 442.619158 240.550531 \nL 442.619158 34.017188 \n\" clip-path=\"url(#p297b9dfe54)\" style=\"fill: none; stroke-dasharray: 1.85,0.8; stroke-dashoffset: 0; stroke: #b0b0b0; stroke-width: 0.5\"/>\n     </g>\n     <g id=\"line2d_2\">\n      <defs>\n       <path id=\"m56af55d4ab\" d=\"M 0 0 \nL 0 3.5 \n\" style=\"stroke: #000000; stroke-width: 0.8\"/>\n      </defs>\n      <g>\n       <use xlink:href=\"#m56af55d4ab\" x=\"442.619158\" y=\"240.550531\" style=\"stroke: #000000; stroke-width: 0.8\"/>\n      </g>\n     </g>\n     <g id=\"text_1\">\n      <!-- $\\mathdefault{10^{-2}}$ -->\n      <g transform=\"translate(432.569158 254.511469) scale(0.1 -0.1)\">\n       <defs>\n        <path id=\"Cmr10-31\" d=\"M 594 0 \nL 594 225 \nQ 1394 225 1394 428 \nL 1394 3788 \nQ 1063 3628 556 3628 \nL 556 3853 \nQ 1341 3853 1741 4263 \nL 1831 4263 \nQ 1853 4263 1873 4245 \nQ 1894 4228 1894 4206 \nL 1894 428 \nQ 1894 225 2694 225 \nL 2694 0 \nL 594 0 \nz\n\" transform=\"scale(0.015625)\"/>\n        <path id=\"Cmr10-30\" d=\"M 1600 -141 \nQ 816 -141 533 504 \nQ 250 1150 250 2041 \nQ 250 2597 351 3087 \nQ 453 3578 754 3920 \nQ 1056 4263 1600 4263 \nQ 2022 4263 2290 4056 \nQ 2559 3850 2700 3523 \nQ 2841 3197 2892 2823 \nQ 2944 2450 2944 2041 \nQ 2944 1491 2842 1011 \nQ 2741 531 2444 195 \nQ 2147 -141 1600 -141 \nz\nM 1600 25 \nQ 1956 25 2131 390 \nQ 2306 756 2347 1200 \nQ 2388 1644 2388 2144 \nQ 2388 2625 2347 3031 \nQ 2306 3438 2132 3767 \nQ 1959 4097 1600 4097 \nQ 1238 4097 1063 3765 \nQ 888 3434 847 3029 \nQ 806 2625 806 2144 \nQ 806 1788 823 1472 \nQ 841 1156 916 820 \nQ 991 484 1158 254 \nQ 1325 25 1600 25 \nz\n\" transform=\"scale(0.015625)\"/>\n        <path id=\"Cmsy10-a1\" d=\"M 653 1472 \nQ 600 1472 565 1512 \nQ 531 1553 531 1600 \nQ 531 1647 565 1687 \nQ 600 1728 653 1728 \nL 4325 1728 \nQ 4375 1728 4408 1687 \nQ 4441 1647 4441 1600 \nQ 4441 1553 4408 1512 \nQ 4375 1472 4325 1472 \nL 653 1472 \nz\n\" transform=\"scale(0.015625)\"/>\n        <path id=\"Cmr10-32\" d=\"M 319 0 \nL 319 172 \nQ 319 188 331 206 \nL 1325 1306 \nQ 1550 1550 1690 1715 \nQ 1831 1881 1968 2097 \nQ 2106 2313 2186 2536 \nQ 2266 2759 2266 3009 \nQ 2266 3272 2169 3511 \nQ 2072 3750 1880 3894 \nQ 1688 4038 1416 4038 \nQ 1138 4038 916 3870 \nQ 694 3703 603 3438 \nQ 628 3444 672 3444 \nQ 816 3444 917 3347 \nQ 1019 3250 1019 3097 \nQ 1019 2950 917 2848 \nQ 816 2747 672 2747 \nQ 522 2747 420 2851 \nQ 319 2956 319 3097 \nQ 319 3338 409 3548 \nQ 500 3759 670 3923 \nQ 841 4088 1055 4175 \nQ 1269 4263 1509 4263 \nQ 1875 4263 2190 4108 \nQ 2506 3953 2690 3670 \nQ 2875 3388 2875 3009 \nQ 2875 2731 2753 2481 \nQ 2631 2231 2440 2026 \nQ 2250 1822 1953 1562 \nQ 1656 1303 1563 1216 \nL 838 519 \nL 1453 519 \nQ 1906 519 2211 526 \nQ 2516 534 2534 550 \nQ 2609 631 2688 1141 \nL 2875 1141 \nL 2694 0 \nL 319 0 \nz\n\" transform=\"scale(0.015625)\"/>\n       </defs>\n       <use xlink:href=\"#Cmr10-31\" transform=\"translate(0 0.223438)\"/>\n       <use xlink:href=\"#Cmr10-30\" transform=\"translate(50 0.223438)\"/>\n       <use xlink:href=\"#Cmsy10-a1\" transform=\"translate(104.5675 39.373438) scale(0.7)\"/>\n       <use xlink:href=\"#Cmr10-32\" transform=\"translate(158.947383 39.373438) scale(0.7)\"/>\n      </g>\n     </g>\n    </g>\n    <g id=\"xtick_2\">\n     <g id=\"line2d_3\">\n      <path d=\"M 342.764368 240.550531 \nL 342.764368 34.017188 \n\" clip-path=\"url(#p297b9dfe54)\" style=\"fill: none; stroke-dasharray: 1.85,0.8; stroke-dashoffset: 0; stroke: #b0b0b0; stroke-width: 0.5\"/>\n     </g>\n     <g id=\"line2d_4\">\n      <g>\n       <use xlink:href=\"#m56af55d4ab\" x=\"342.764368\" y=\"240.550531\" style=\"stroke: #000000; stroke-width: 0.8\"/>\n      </g>\n     </g>\n     <g id=\"text_2\">\n      <!-- $\\mathdefault{10^{-1}}$ -->\n      <g transform=\"translate(332.714368 254.511469) scale(0.1 -0.1)\">\n       <use xlink:href=\"#Cmr10-31\" transform=\"translate(0 0.223438)\"/>\n       <use xlink:href=\"#Cmr10-30\" transform=\"translate(50 0.223438)\"/>\n       <use xlink:href=\"#Cmsy10-a1\" transform=\"translate(104.5675 39.373438) scale(0.7)\"/>\n       <use xlink:href=\"#Cmr10-31\" transform=\"translate(158.947383 39.373438) scale(0.7)\"/>\n      </g>\n     </g>\n    </g>\n    <g id=\"xtick_3\">\n     <g id=\"line2d_5\">\n      <path d=\"M 242.909579 240.550531 \nL 242.909579 34.017188 \n\" clip-path=\"url(#p297b9dfe54)\" style=\"fill: none; stroke-dasharray: 1.85,0.8; stroke-dashoffset: 0; stroke: #b0b0b0; stroke-width: 0.5\"/>\n     </g>\n     <g id=\"line2d_6\">\n      <g>\n       <use xlink:href=\"#m56af55d4ab\" x=\"242.909579\" y=\"240.550531\" style=\"stroke: #000000; stroke-width: 0.8\"/>\n      </g>\n     </g>\n     <g id=\"text_3\">\n      <!-- $\\mathdefault{10^{0}}$ -->\n      <g transform=\"translate(235.559579 254.511469) scale(0.1 -0.1)\">\n       <use xlink:href=\"#Cmr10-31\" transform=\"translate(0 0.223438)\"/>\n       <use xlink:href=\"#Cmr10-30\" transform=\"translate(50 0.223438)\"/>\n       <use xlink:href=\"#Cmr10-30\" transform=\"translate(104.5675 39.373438) scale(0.7)\"/>\n      </g>\n     </g>\n    </g>\n    <g id=\"xtick_4\">\n     <g id=\"line2d_7\">\n      <path d=\"M 143.054789 240.550531 \nL 143.054789 34.017188 \n\" clip-path=\"url(#p297b9dfe54)\" style=\"fill: none; stroke-dasharray: 1.85,0.8; stroke-dashoffset: 0; stroke: #b0b0b0; stroke-width: 0.5\"/>\n     </g>\n     <g id=\"line2d_8\">\n      <g>\n       <use xlink:href=\"#m56af55d4ab\" x=\"143.054789\" y=\"240.550531\" style=\"stroke: #000000; stroke-width: 0.8\"/>\n      </g>\n     </g>\n     <g id=\"text_4\">\n      <!-- $\\mathdefault{10^{1}}$ -->\n      <g transform=\"translate(135.704789 254.511469) scale(0.1 -0.1)\">\n       <use xlink:href=\"#Cmr10-31\" transform=\"translate(0 0.223438)\"/>\n       <use xlink:href=\"#Cmr10-30\" transform=\"translate(50 0.223438)\"/>\n       <use xlink:href=\"#Cmr10-31\" transform=\"translate(104.5675 39.373438) scale(0.7)\"/>\n      </g>\n     </g>\n    </g>\n    <g id=\"xtick_5\">\n     <g id=\"line2d_9\">\n      <path d=\"M 43.2 240.550531 \nL 43.2 34.017188 \n\" clip-path=\"url(#p297b9dfe54)\" style=\"fill: none; stroke-dasharray: 1.85,0.8; stroke-dashoffset: 0; stroke: #b0b0b0; stroke-width: 0.5\"/>\n     </g>\n     <g id=\"line2d_10\">\n      <g>\n       <use xlink:href=\"#m56af55d4ab\" x=\"43.2\" y=\"240.550531\" style=\"stroke: #000000; stroke-width: 0.8\"/>\n      </g>\n     </g>\n     <g id=\"text_5\">\n      <!-- $\\mathdefault{10^{2}}$ -->\n      <g transform=\"translate(35.85 254.511469) scale(0.1 -0.1)\">\n       <use xlink:href=\"#Cmr10-31\" transform=\"translate(0 0.223438)\"/>\n       <use xlink:href=\"#Cmr10-30\" transform=\"translate(50 0.223438)\"/>\n       <use xlink:href=\"#Cmr10-32\" transform=\"translate(104.5675 39.373438) scale(0.7)\"/>\n      </g>\n     </g>\n    </g>\n    <g id=\"xtick_6\">\n     <g id=\"line2d_11\">\n      <path d=\"M 412.559871 240.550531 \nL 412.559871 34.017188 \n\" clip-path=\"url(#p297b9dfe54)\" style=\"fill: none; stroke-dasharray: 1.85,0.8; stroke-dashoffset: 0; stroke: #b0b0b0; stroke-width: 0.5\"/>\n     </g>\n     <g id=\"line2d_12\">\n      <defs>\n       <path id=\"m3b5c80cae4\" d=\"M 0 0 \nL 0 2 \n\" style=\"stroke: #000000; stroke-width: 0.6\"/>\n      </defs>\n      <g>\n       <use xlink:href=\"#m3b5c80cae4\" x=\"412.559871\" y=\"240.550531\" style=\"stroke: #000000; stroke-width: 0.6\"/>\n      </g>\n     </g>\n    </g>\n    <g id=\"xtick_7\">\n     <g id=\"line2d_13\">\n      <path d=\"M 394.976316 240.550531 \nL 394.976316 34.017188 \n\" clip-path=\"url(#p297b9dfe54)\" style=\"fill: none; stroke-dasharray: 1.85,0.8; stroke-dashoffset: 0; stroke: #b0b0b0; stroke-width: 0.5\"/>\n     </g>\n     <g id=\"line2d_14\">\n      <g>\n       <use xlink:href=\"#m3b5c80cae4\" x=\"394.976316\" y=\"240.550531\" style=\"stroke: #000000; stroke-width: 0.6\"/>\n      </g>\n     </g>\n    </g>\n    <g id=\"xtick_8\">\n     <g id=\"line2d_15\">\n      <path d=\"M 382.500584 240.550531 \nL 382.500584 34.017188 \n\" clip-path=\"url(#p297b9dfe54)\" style=\"fill: none; stroke-dasharray: 1.85,0.8; stroke-dashoffset: 0; stroke: #b0b0b0; stroke-width: 0.5\"/>\n     </g>\n     <g id=\"line2d_16\">\n      <g>\n       <use xlink:href=\"#m3b5c80cae4\" x=\"382.500584\" y=\"240.550531\" style=\"stroke: #000000; stroke-width: 0.6\"/>\n      </g>\n     </g>\n    </g>\n    <g id=\"xtick_9\">\n     <g id=\"line2d_17\">\n      <path d=\"M 372.823655 240.550531 \nL 372.823655 34.017188 \n\" clip-path=\"url(#p297b9dfe54)\" style=\"fill: none; stroke-dasharray: 1.85,0.8; stroke-dashoffset: 0; stroke: #b0b0b0; stroke-width: 0.5\"/>\n     </g>\n     <g id=\"line2d_18\">\n      <g>\n       <use xlink:href=\"#m3b5c80cae4\" x=\"372.823655\" y=\"240.550531\" style=\"stroke: #000000; stroke-width: 0.6\"/>\n      </g>\n     </g>\n    </g>\n    <g id=\"xtick_10\">\n     <g id=\"line2d_19\">\n      <path d=\"M 364.917029 240.550531 \nL 364.917029 34.017188 \n\" clip-path=\"url(#p297b9dfe54)\" style=\"fill: none; stroke-dasharray: 1.85,0.8; stroke-dashoffset: 0; stroke: #b0b0b0; stroke-width: 0.5\"/>\n     </g>\n     <g id=\"line2d_20\">\n      <g>\n       <use xlink:href=\"#m3b5c80cae4\" x=\"364.917029\" y=\"240.550531\" style=\"stroke: #000000; stroke-width: 0.6\"/>\n      </g>\n     </g>\n    </g>\n    <g id=\"xtick_11\">\n     <g id=\"line2d_21\">\n      <path d=\"M 358.232071 240.550531 \nL 358.232071 34.017188 \n\" clip-path=\"url(#p297b9dfe54)\" style=\"fill: none; stroke-dasharray: 1.85,0.8; stroke-dashoffset: 0; stroke: #b0b0b0; stroke-width: 0.5\"/>\n     </g>\n     <g id=\"line2d_22\">\n      <g>\n       <use xlink:href=\"#m3b5c80cae4\" x=\"358.232071\" y=\"240.550531\" style=\"stroke: #000000; stroke-width: 0.6\"/>\n      </g>\n     </g>\n    </g>\n    <g id=\"xtick_12\">\n     <g id=\"line2d_23\">\n      <path d=\"M 352.441297 240.550531 \nL 352.441297 34.017188 \n\" clip-path=\"url(#p297b9dfe54)\" style=\"fill: none; stroke-dasharray: 1.85,0.8; stroke-dashoffset: 0; stroke: #b0b0b0; stroke-width: 0.5\"/>\n     </g>\n     <g id=\"line2d_24\">\n      <g>\n       <use xlink:href=\"#m3b5c80cae4\" x=\"352.441297\" y=\"240.550531\" style=\"stroke: #000000; stroke-width: 0.6\"/>\n      </g>\n     </g>\n    </g>\n    <g id=\"xtick_13\">\n     <g id=\"line2d_25\">\n      <path d=\"M 347.333473 240.550531 \nL 347.333473 34.017188 \n\" clip-path=\"url(#p297b9dfe54)\" style=\"fill: none; stroke-dasharray: 1.85,0.8; stroke-dashoffset: 0; stroke: #b0b0b0; stroke-width: 0.5\"/>\n     </g>\n     <g id=\"line2d_26\">\n      <g>\n       <use xlink:href=\"#m3b5c80cae4\" x=\"347.333473\" y=\"240.550531\" style=\"stroke: #000000; stroke-width: 0.6\"/>\n      </g>\n     </g>\n    </g>\n    <g id=\"xtick_14\">\n     <g id=\"line2d_27\">\n      <path d=\"M 312.705082 240.550531 \nL 312.705082 34.017188 \n\" clip-path=\"url(#p297b9dfe54)\" style=\"fill: none; stroke-dasharray: 1.85,0.8; stroke-dashoffset: 0; stroke: #b0b0b0; stroke-width: 0.5\"/>\n     </g>\n     <g id=\"line2d_28\">\n      <g>\n       <use xlink:href=\"#m3b5c80cae4\" x=\"312.705082\" y=\"240.550531\" style=\"stroke: #000000; stroke-width: 0.6\"/>\n      </g>\n     </g>\n    </g>\n    <g id=\"xtick_15\">\n     <g id=\"line2d_29\">\n      <path d=\"M 295.121526 240.550531 \nL 295.121526 34.017188 \n\" clip-path=\"url(#p297b9dfe54)\" style=\"fill: none; stroke-dasharray: 1.85,0.8; stroke-dashoffset: 0; stroke: #b0b0b0; stroke-width: 0.5\"/>\n     </g>\n     <g id=\"line2d_30\">\n      <g>\n       <use xlink:href=\"#m3b5c80cae4\" x=\"295.121526\" y=\"240.550531\" style=\"stroke: #000000; stroke-width: 0.6\"/>\n      </g>\n     </g>\n    </g>\n    <g id=\"xtick_16\">\n     <g id=\"line2d_31\">\n      <path d=\"M 282.645795 240.550531 \nL 282.645795 34.017188 \n\" clip-path=\"url(#p297b9dfe54)\" style=\"fill: none; stroke-dasharray: 1.85,0.8; stroke-dashoffset: 0; stroke: #b0b0b0; stroke-width: 0.5\"/>\n     </g>\n     <g id=\"line2d_32\">\n      <g>\n       <use xlink:href=\"#m3b5c80cae4\" x=\"282.645795\" y=\"240.550531\" style=\"stroke: #000000; stroke-width: 0.6\"/>\n      </g>\n     </g>\n    </g>\n    <g id=\"xtick_17\">\n     <g id=\"line2d_33\">\n      <path d=\"M 272.968866 240.550531 \nL 272.968866 34.017188 \n\" clip-path=\"url(#p297b9dfe54)\" style=\"fill: none; stroke-dasharray: 1.85,0.8; stroke-dashoffset: 0; stroke: #b0b0b0; stroke-width: 0.5\"/>\n     </g>\n     <g id=\"line2d_34\">\n      <g>\n       <use xlink:href=\"#m3b5c80cae4\" x=\"272.968866\" y=\"240.550531\" style=\"stroke: #000000; stroke-width: 0.6\"/>\n      </g>\n     </g>\n    </g>\n    <g id=\"xtick_18\">\n     <g id=\"line2d_35\">\n      <path d=\"M 265.062239 240.550531 \nL 265.062239 34.017188 \n\" clip-path=\"url(#p297b9dfe54)\" style=\"fill: none; stroke-dasharray: 1.85,0.8; stroke-dashoffset: 0; stroke: #b0b0b0; stroke-width: 0.5\"/>\n     </g>\n     <g id=\"line2d_36\">\n      <g>\n       <use xlink:href=\"#m3b5c80cae4\" x=\"265.062239\" y=\"240.550531\" style=\"stroke: #000000; stroke-width: 0.6\"/>\n      </g>\n     </g>\n    </g>\n    <g id=\"xtick_19\">\n     <g id=\"line2d_37\">\n      <path d=\"M 258.377282 240.550531 \nL 258.377282 34.017188 \n\" clip-path=\"url(#p297b9dfe54)\" style=\"fill: none; stroke-dasharray: 1.85,0.8; stroke-dashoffset: 0; stroke: #b0b0b0; stroke-width: 0.5\"/>\n     </g>\n     <g id=\"line2d_38\">\n      <g>\n       <use xlink:href=\"#m3b5c80cae4\" x=\"258.377282\" y=\"240.550531\" style=\"stroke: #000000; stroke-width: 0.6\"/>\n      </g>\n     </g>\n    </g>\n    <g id=\"xtick_20\">\n     <g id=\"line2d_39\">\n      <path d=\"M 252.586508 240.550531 \nL 252.586508 34.017188 \n\" clip-path=\"url(#p297b9dfe54)\" style=\"fill: none; stroke-dasharray: 1.85,0.8; stroke-dashoffset: 0; stroke: #b0b0b0; stroke-width: 0.5\"/>\n     </g>\n     <g id=\"line2d_40\">\n      <g>\n       <use xlink:href=\"#m3b5c80cae4\" x=\"252.586508\" y=\"240.550531\" style=\"stroke: #000000; stroke-width: 0.6\"/>\n      </g>\n     </g>\n    </g>\n    <g id=\"xtick_21\">\n     <g id=\"line2d_41\">\n      <path d=\"M 247.478684 240.550531 \nL 247.478684 34.017188 \n\" clip-path=\"url(#p297b9dfe54)\" style=\"fill: none; stroke-dasharray: 1.85,0.8; stroke-dashoffset: 0; stroke: #b0b0b0; stroke-width: 0.5\"/>\n     </g>\n     <g id=\"line2d_42\">\n      <g>\n       <use xlink:href=\"#m3b5c80cae4\" x=\"247.478684\" y=\"240.550531\" style=\"stroke: #000000; stroke-width: 0.6\"/>\n      </g>\n     </g>\n    </g>\n    <g id=\"xtick_22\">\n     <g id=\"line2d_43\">\n      <path d=\"M 212.850292 240.550531 \nL 212.850292 34.017188 \n\" clip-path=\"url(#p297b9dfe54)\" style=\"fill: none; stroke-dasharray: 1.85,0.8; stroke-dashoffset: 0; stroke: #b0b0b0; stroke-width: 0.5\"/>\n     </g>\n     <g id=\"line2d_44\">\n      <g>\n       <use xlink:href=\"#m3b5c80cae4\" x=\"212.850292\" y=\"240.550531\" style=\"stroke: #000000; stroke-width: 0.6\"/>\n      </g>\n     </g>\n    </g>\n    <g id=\"xtick_23\">\n     <g id=\"line2d_45\">\n      <path d=\"M 195.266737 240.550531 \nL 195.266737 34.017188 \n\" clip-path=\"url(#p297b9dfe54)\" style=\"fill: none; stroke-dasharray: 1.85,0.8; stroke-dashoffset: 0; stroke: #b0b0b0; stroke-width: 0.5\"/>\n     </g>\n     <g id=\"line2d_46\">\n      <g>\n       <use xlink:href=\"#m3b5c80cae4\" x=\"195.266737\" y=\"240.550531\" style=\"stroke: #000000; stroke-width: 0.6\"/>\n      </g>\n     </g>\n    </g>\n    <g id=\"xtick_24\">\n     <g id=\"line2d_47\">\n      <path d=\"M 182.791005 240.550531 \nL 182.791005 34.017188 \n\" clip-path=\"url(#p297b9dfe54)\" style=\"fill: none; stroke-dasharray: 1.85,0.8; stroke-dashoffset: 0; stroke: #b0b0b0; stroke-width: 0.5\"/>\n     </g>\n     <g id=\"line2d_48\">\n      <g>\n       <use xlink:href=\"#m3b5c80cae4\" x=\"182.791005\" y=\"240.550531\" style=\"stroke: #000000; stroke-width: 0.6\"/>\n      </g>\n     </g>\n    </g>\n    <g id=\"xtick_25\">\n     <g id=\"line2d_49\">\n      <path d=\"M 173.114076 240.550531 \nL 173.114076 34.017188 \n\" clip-path=\"url(#p297b9dfe54)\" style=\"fill: none; stroke-dasharray: 1.85,0.8; stroke-dashoffset: 0; stroke: #b0b0b0; stroke-width: 0.5\"/>\n     </g>\n     <g id=\"line2d_50\">\n      <g>\n       <use xlink:href=\"#m3b5c80cae4\" x=\"173.114076\" y=\"240.550531\" style=\"stroke: #000000; stroke-width: 0.6\"/>\n      </g>\n     </g>\n    </g>\n    <g id=\"xtick_26\">\n     <g id=\"line2d_51\">\n      <path d=\"M 165.20745 240.550531 \nL 165.20745 34.017188 \n\" clip-path=\"url(#p297b9dfe54)\" style=\"fill: none; stroke-dasharray: 1.85,0.8; stroke-dashoffset: 0; stroke: #b0b0b0; stroke-width: 0.5\"/>\n     </g>\n     <g id=\"line2d_52\">\n      <g>\n       <use xlink:href=\"#m3b5c80cae4\" x=\"165.20745\" y=\"240.550531\" style=\"stroke: #000000; stroke-width: 0.6\"/>\n      </g>\n     </g>\n    </g>\n    <g id=\"xtick_27\">\n     <g id=\"line2d_53\">\n      <path d=\"M 158.522492 240.550531 \nL 158.522492 34.017188 \n\" clip-path=\"url(#p297b9dfe54)\" style=\"fill: none; stroke-dasharray: 1.85,0.8; stroke-dashoffset: 0; stroke: #b0b0b0; stroke-width: 0.5\"/>\n     </g>\n     <g id=\"line2d_54\">\n      <g>\n       <use xlink:href=\"#m3b5c80cae4\" x=\"158.522492\" y=\"240.550531\" style=\"stroke: #000000; stroke-width: 0.6\"/>\n      </g>\n     </g>\n    </g>\n    <g id=\"xtick_28\">\n     <g id=\"line2d_55\">\n      <path d=\"M 152.731718 240.550531 \nL 152.731718 34.017188 \n\" clip-path=\"url(#p297b9dfe54)\" style=\"fill: none; stroke-dasharray: 1.85,0.8; stroke-dashoffset: 0; stroke: #b0b0b0; stroke-width: 0.5\"/>\n     </g>\n     <g id=\"line2d_56\">\n      <g>\n       <use xlink:href=\"#m3b5c80cae4\" x=\"152.731718\" y=\"240.550531\" style=\"stroke: #000000; stroke-width: 0.6\"/>\n      </g>\n     </g>\n    </g>\n    <g id=\"xtick_29\">\n     <g id=\"line2d_57\">\n      <path d=\"M 147.623894 240.550531 \nL 147.623894 34.017188 \n\" clip-path=\"url(#p297b9dfe54)\" style=\"fill: none; stroke-dasharray: 1.85,0.8; stroke-dashoffset: 0; stroke: #b0b0b0; stroke-width: 0.5\"/>\n     </g>\n     <g id=\"line2d_58\">\n      <g>\n       <use xlink:href=\"#m3b5c80cae4\" x=\"147.623894\" y=\"240.550531\" style=\"stroke: #000000; stroke-width: 0.6\"/>\n      </g>\n     </g>\n    </g>\n    <g id=\"xtick_30\">\n     <g id=\"line2d_59\">\n      <path d=\"M 112.995503 240.550531 \nL 112.995503 34.017188 \n\" clip-path=\"url(#p297b9dfe54)\" style=\"fill: none; stroke-dasharray: 1.85,0.8; stroke-dashoffset: 0; stroke: #b0b0b0; stroke-width: 0.5\"/>\n     </g>\n     <g id=\"line2d_60\">\n      <g>\n       <use xlink:href=\"#m3b5c80cae4\" x=\"112.995503\" y=\"240.550531\" style=\"stroke: #000000; stroke-width: 0.6\"/>\n      </g>\n     </g>\n    </g>\n    <g id=\"xtick_31\">\n     <g id=\"line2d_61\">\n      <path d=\"M 95.411947 240.550531 \nL 95.411947 34.017188 \n\" clip-path=\"url(#p297b9dfe54)\" style=\"fill: none; stroke-dasharray: 1.85,0.8; stroke-dashoffset: 0; stroke: #b0b0b0; stroke-width: 0.5\"/>\n     </g>\n     <g id=\"line2d_62\">\n      <g>\n       <use xlink:href=\"#m3b5c80cae4\" x=\"95.411947\" y=\"240.550531\" style=\"stroke: #000000; stroke-width: 0.6\"/>\n      </g>\n     </g>\n    </g>\n    <g id=\"xtick_32\">\n     <g id=\"line2d_63\">\n      <path d=\"M 82.936216 240.550531 \nL 82.936216 34.017188 \n\" clip-path=\"url(#p297b9dfe54)\" style=\"fill: none; stroke-dasharray: 1.85,0.8; stroke-dashoffset: 0; stroke: #b0b0b0; stroke-width: 0.5\"/>\n     </g>\n     <g id=\"line2d_64\">\n      <g>\n       <use xlink:href=\"#m3b5c80cae4\" x=\"82.936216\" y=\"240.550531\" style=\"stroke: #000000; stroke-width: 0.6\"/>\n      </g>\n     </g>\n    </g>\n    <g id=\"xtick_33\">\n     <g id=\"line2d_65\">\n      <path d=\"M 73.259287 240.550531 \nL 73.259287 34.017188 \n\" clip-path=\"url(#p297b9dfe54)\" style=\"fill: none; stroke-dasharray: 1.85,0.8; stroke-dashoffset: 0; stroke: #b0b0b0; stroke-width: 0.5\"/>\n     </g>\n     <g id=\"line2d_66\">\n      <g>\n       <use xlink:href=\"#m3b5c80cae4\" x=\"73.259287\" y=\"240.550531\" style=\"stroke: #000000; stroke-width: 0.6\"/>\n      </g>\n     </g>\n    </g>\n    <g id=\"xtick_34\">\n     <g id=\"line2d_67\">\n      <path d=\"M 65.35266 240.550531 \nL 65.35266 34.017188 \n\" clip-path=\"url(#p297b9dfe54)\" style=\"fill: none; stroke-dasharray: 1.85,0.8; stroke-dashoffset: 0; stroke: #b0b0b0; stroke-width: 0.5\"/>\n     </g>\n     <g id=\"line2d_68\">\n      <g>\n       <use xlink:href=\"#m3b5c80cae4\" x=\"65.35266\" y=\"240.550531\" style=\"stroke: #000000; stroke-width: 0.6\"/>\n      </g>\n     </g>\n    </g>\n    <g id=\"xtick_35\">\n     <g id=\"line2d_69\">\n      <path d=\"M 58.667703 240.550531 \nL 58.667703 34.017188 \n\" clip-path=\"url(#p297b9dfe54)\" style=\"fill: none; stroke-dasharray: 1.85,0.8; stroke-dashoffset: 0; stroke: #b0b0b0; stroke-width: 0.5\"/>\n     </g>\n     <g id=\"line2d_70\">\n      <g>\n       <use xlink:href=\"#m3b5c80cae4\" x=\"58.667703\" y=\"240.550531\" style=\"stroke: #000000; stroke-width: 0.6\"/>\n      </g>\n     </g>\n    </g>\n    <g id=\"xtick_36\">\n     <g id=\"line2d_71\">\n      <path d=\"M 52.876929 240.550531 \nL 52.876929 34.017188 \n\" clip-path=\"url(#p297b9dfe54)\" style=\"fill: none; stroke-dasharray: 1.85,0.8; stroke-dashoffset: 0; stroke: #b0b0b0; stroke-width: 0.5\"/>\n     </g>\n     <g id=\"line2d_72\">\n      <g>\n       <use xlink:href=\"#m3b5c80cae4\" x=\"52.876929\" y=\"240.550531\" style=\"stroke: #000000; stroke-width: 0.6\"/>\n      </g>\n     </g>\n    </g>\n    <g id=\"xtick_37\">\n     <g id=\"line2d_73\">\n      <path d=\"M 47.769105 240.550531 \nL 47.769105 34.017188 \n\" clip-path=\"url(#p297b9dfe54)\" style=\"fill: none; stroke-dasharray: 1.85,0.8; stroke-dashoffset: 0; stroke: #b0b0b0; stroke-width: 0.5\"/>\n     </g>\n     <g id=\"line2d_74\">\n      <g>\n       <use xlink:href=\"#m3b5c80cae4\" x=\"47.769105\" y=\"240.550531\" style=\"stroke: #000000; stroke-width: 0.6\"/>\n      </g>\n     </g>\n    </g>\n    <g id=\"text_6\">\n     <!-- Diameter [mm] -->\n     <g transform=\"translate(209.946298 267.950531) scale(0.1 -0.1)\">\n      <defs>\n       <path id=\"Cmr10-44\" d=\"M 213 0 \nL 213 225 \nQ 872 225 872 428 \nL 872 3944 \nQ 872 4147 213 4147 \nL 213 4372 \nL 2572 4372 \nQ 3009 4372 3371 4183 \nQ 3734 3994 3990 3678 \nQ 4247 3363 4386 2963 \nQ 4525 2563 4525 2144 \nQ 4525 1738 4384 1355 \nQ 4244 972 3980 664 \nQ 3716 356 3355 178 \nQ 2994 0 2572 0 \nL 213 0 \nz\nM 1447 428 \nQ 1447 291 1525 258 \nQ 1603 225 1772 225 \nL 2406 225 \nQ 2734 225 3029 367 \nQ 3325 509 3519 763 \nQ 3722 1031 3790 1364 \nQ 3859 1697 3859 2144 \nQ 3859 2609 3790 2959 \nQ 3722 3309 3519 3584 \nQ 3328 3856 3034 4001 \nQ 2741 4147 2406 4147 \nL 1772 4147 \nQ 1656 4147 1592 4137 \nQ 1528 4128 1487 4083 \nQ 1447 4038 1447 3944 \nL 1447 428 \nz\n\" transform=\"scale(0.015625)\"/>\n       <path id=\"Cmr10-69\" d=\"M 197 0 \nL 197 225 \nQ 416 225 556 259 \nQ 697 294 697 428 \nL 697 2175 \nQ 697 2422 601 2478 \nQ 506 2534 225 2534 \nL 225 2759 \nL 1147 2828 \nL 1147 428 \nQ 1147 294 1269 259 \nQ 1391 225 1594 225 \nL 1594 0 \nL 197 0 \nz\nM 469 3928 \nQ 469 4069 575 4175 \nQ 681 4281 819 4281 \nQ 909 4281 993 4234 \nQ 1078 4188 1125 4103 \nQ 1172 4019 1172 3928 \nQ 1172 3791 1065 3684 \nQ 959 3578 819 3578 \nQ 681 3578 575 3684 \nQ 469 3791 469 3928 \nz\n\" transform=\"scale(0.015625)\"/>\n       <path id=\"Cmr10-61\" d=\"M 256 628 \nQ 256 1009 556 1248 \nQ 856 1488 1276 1586 \nQ 1697 1684 2075 1684 \nL 2075 1947 \nQ 2075 2131 1994 2304 \nQ 1913 2478 1759 2589 \nQ 1606 2700 1422 2700 \nQ 997 2700 775 2509 \nQ 897 2509 976 2417 \nQ 1056 2325 1056 2203 \nQ 1056 2075 965 1984 \nQ 875 1894 750 1894 \nQ 622 1894 531 1984 \nQ 441 2075 441 2203 \nQ 441 2541 747 2705 \nQ 1053 2869 1422 2869 \nQ 1681 2869 1943 2758 \nQ 2206 2647 2373 2440 \nQ 2541 2234 2541 1959 \nL 2541 519 \nQ 2541 394 2594 289 \nQ 2647 184 2759 184 \nQ 2866 184 2917 290 \nQ 2969 397 2969 519 \nL 2969 928 \nL 3156 928 \nL 3156 519 \nQ 3156 375 3081 245 \nQ 3006 116 2879 39 \nQ 2753 -38 2606 -38 \nQ 2419 -38 2283 107 \nQ 2147 253 2131 453 \nQ 2013 213 1781 70 \nQ 1550 -72 1288 -72 \nQ 1044 -72 808 0 \nQ 572 72 414 226 \nQ 256 381 256 628 \nz\nM 775 628 \nQ 775 403 940 250 \nQ 1106 97 1331 97 \nQ 1538 97 1706 200 \nQ 1875 303 1975 481 \nQ 2075 659 2075 856 \nL 2075 1522 \nQ 1784 1522 1479 1426 \nQ 1175 1331 975 1128 \nQ 775 925 775 628 \nz\n\" transform=\"scale(0.015625)\"/>\n       <path id=\"Cmr10-6d\" d=\"M 191 0 \nL 191 225 \nQ 409 225 550 259 \nQ 691 294 691 428 \nL 691 2175 \nQ 691 2347 639 2423 \nQ 588 2500 491 2517 \nQ 394 2534 191 2534 \nL 191 2759 \nL 1119 2828 \nL 1119 2203 \nQ 1247 2478 1498 2653 \nQ 1750 2828 2047 2828 \nQ 2784 2828 2913 2228 \nQ 3041 2497 3287 2662 \nQ 3534 2828 3828 2828 \nQ 4119 2828 4317 2734 \nQ 4516 2641 4616 2448 \nQ 4716 2256 4716 1966 \nL 4716 428 \nQ 4716 294 4858 259 \nQ 5000 225 5216 225 \nL 5216 0 \nL 3750 0 \nL 3750 225 \nQ 3969 225 4109 259 \nQ 4250 294 4250 428 \nL 4250 1947 \nQ 4250 2269 4159 2466 \nQ 4069 2663 3788 2663 \nQ 3419 2663 3178 2366 \nQ 2938 2069 2938 1691 \nL 2938 428 \nQ 2938 294 3078 259 \nQ 3219 225 3438 225 \nL 3438 0 \nL 1972 0 \nL 1972 225 \nQ 2191 225 2331 259 \nQ 2472 294 2472 428 \nL 2472 1947 \nQ 2472 2259 2381 2461 \nQ 2291 2663 2009 2663 \nQ 1638 2663 1398 2366 \nQ 1159 2069 1159 1691 \nL 1159 428 \nQ 1159 294 1300 259 \nQ 1441 225 1656 225 \nL 1656 0 \nL 191 0 \nz\n\" transform=\"scale(0.015625)\"/>\n       <path id=\"Cmr10-65\" d=\"M 1594 -72 \nQ 1203 -72 876 133 \nQ 550 338 364 680 \nQ 178 1022 178 1403 \nQ 178 1778 348 2115 \nQ 519 2453 823 2661 \nQ 1128 2869 1503 2869 \nQ 1797 2869 2014 2770 \nQ 2231 2672 2372 2497 \nQ 2513 2322 2584 2084 \nQ 2656 1847 2656 1563 \nQ 2656 1478 2591 1478 \nL 738 1478 \nL 738 1409 \nQ 738 878 952 497 \nQ 1166 116 1650 116 \nQ 1847 116 2014 203 \nQ 2181 291 2304 447 \nQ 2428 603 2472 781 \nQ 2478 803 2495 820 \nQ 2513 838 2534 838 \nL 2591 838 \nQ 2656 838 2656 756 \nQ 2566 394 2266 161 \nQ 1966 -72 1594 -72 \nz\nM 744 1638 \nL 2203 1638 \nQ 2203 1878 2136 2125 \nQ 2069 2372 1912 2536 \nQ 1756 2700 1503 2700 \nQ 1141 2700 942 2361 \nQ 744 2022 744 1638 \nz\n\" transform=\"scale(0.015625)\"/>\n       <path id=\"Cmr10-74\" d=\"M 653 769 \nL 653 2534 \nL 122 2534 \nL 122 2700 \nQ 541 2700 737 3090 \nQ 934 3481 934 3938 \nL 1119 3938 \nL 1119 2759 \nL 2022 2759 \nL 2022 2534 \nL 1119 2534 \nL 1119 781 \nQ 1119 516 1208 316 \nQ 1297 116 1528 116 \nQ 1747 116 1844 327 \nQ 1941 538 1941 781 \nL 1941 1159 \nL 2125 1159 \nL 2125 769 \nQ 2125 569 2051 373 \nQ 1978 178 1834 53 \nQ 1691 -72 1484 -72 \nQ 1100 -72 876 158 \nQ 653 388 653 769 \nz\n\" transform=\"scale(0.015625)\"/>\n       <path id=\"Cmr10-72\" d=\"M 166 0 \nL 166 225 \nQ 384 225 525 259 \nQ 666 294 666 428 \nL 666 2175 \nQ 666 2347 614 2423 \nQ 563 2500 466 2517 \nQ 369 2534 166 2534 \nL 166 2759 \nL 1081 2828 \nL 1081 2203 \nQ 1184 2481 1375 2654 \nQ 1566 2828 1838 2828 \nQ 2028 2828 2178 2715 \nQ 2328 2603 2328 2419 \nQ 2328 2303 2245 2217 \nQ 2163 2131 2041 2131 \nQ 1922 2131 1837 2215 \nQ 1753 2300 1753 2419 \nQ 1753 2591 1875 2663 \nL 1838 2663 \nQ 1578 2663 1414 2475 \nQ 1250 2288 1181 2009 \nQ 1113 1731 1113 1478 \nL 1113 428 \nQ 1113 225 1734 225 \nL 1734 0 \nL 166 0 \nz\n\" transform=\"scale(0.015625)\"/>\n       <path id=\"Cmr10-20\" transform=\"scale(0.015625)\"/>\n       <path id=\"Cmr10-5b\" d=\"M 756 -1600 \nL 756 4800 \nL 1631 4800 \nL 1631 4544 \nL 1013 4544 \nL 1013 -1344 \nL 1631 -1344 \nL 1631 -1600 \nL 756 -1600 \nz\n\" transform=\"scale(0.015625)\"/>\n       <path id=\"Cmr10-5d\" d=\"M 141 -1600 \nL 141 -1344 \nL 763 -1344 \nL 763 4544 \nL 141 4544 \nL 141 4800 \nL 1019 4800 \nL 1019 -1600 \nL 141 -1600 \nz\n\" transform=\"scale(0.015625)\"/>\n      </defs>\n      <use xlink:href=\"#Cmr10-44\"/>\n      <use xlink:href=\"#Cmr10-69\" x=\"76.318359\"/>\n      <use xlink:href=\"#Cmr10-61\" x=\"104.003906\"/>\n      <use xlink:href=\"#Cmr10-6d\" x=\"154.003906\"/>\n      <use xlink:href=\"#Cmr10-65\" x=\"237.304688\"/>\n      <use xlink:href=\"#Cmr10-74\" x=\"281.689453\"/>\n      <use xlink:href=\"#Cmr10-65\" x=\"320.507812\"/>\n      <use xlink:href=\"#Cmr10-72\" x=\"364.892578\"/>\n      <use xlink:href=\"#Cmr10-20\" x=\"404.003906\"/>\n      <use xlink:href=\"#Cmr10-5b\" x=\"437.304688\"/>\n      <use xlink:href=\"#Cmr10-6d\" x=\"464.990234\"/>\n      <use xlink:href=\"#Cmr10-6d\" x=\"548.291016\"/>\n      <use xlink:href=\"#Cmr10-5d\" x=\"631.591797\"/>\n     </g>\n    </g>\n   </g>\n   <g id=\"matplotlib.axis_2\">\n    <g id=\"ytick_1\">\n     <g id=\"line2d_75\">\n      <path d=\"M 43.2 240.550531 \nL 442.619158 240.550531 \n\" clip-path=\"url(#p297b9dfe54)\" style=\"fill: none; stroke-dasharray: 1.85,0.8; stroke-dashoffset: 0; stroke: #b0b0b0; stroke-width: 0.5\"/>\n     </g>\n     <g id=\"line2d_76\">\n      <defs>\n       <path id=\"m501678215a\" d=\"M 0 0 \nL -3.5 0 \n\" style=\"stroke: #000000; stroke-width: 0.8\"/>\n      </defs>\n      <g>\n       <use xlink:href=\"#m501678215a\" x=\"43.2\" y=\"240.550531\" style=\"stroke: #000000; stroke-width: 0.8\"/>\n      </g>\n     </g>\n     <g id=\"text_7\">\n      <!-- $\\mathdefault{0}$ -->\n      <g transform=\"translate(31.2 244.020063) scale(0.1 -0.1)\">\n       <use xlink:href=\"#Cmr10-30\" transform=\"translate(0 0.390625)\"/>\n      </g>\n     </g>\n    </g>\n    <g id=\"ytick_2\">\n     <g id=\"line2d_77\">\n      <path d=\"M 43.2 199.243863 \nL 442.619158 199.243863 \n\" clip-path=\"url(#p297b9dfe54)\" style=\"fill: none; stroke-dasharray: 1.85,0.8; stroke-dashoffset: 0; stroke: #b0b0b0; stroke-width: 0.5\"/>\n     </g>\n     <g id=\"line2d_78\">\n      <g>\n       <use xlink:href=\"#m501678215a\" x=\"43.2\" y=\"199.243863\" style=\"stroke: #000000; stroke-width: 0.8\"/>\n      </g>\n     </g>\n     <g id=\"text_8\">\n      <!-- $\\mathdefault{20}$ -->\n      <g transform=\"translate(26.2 202.713394) scale(0.1 -0.1)\">\n       <use xlink:href=\"#Cmr10-32\" transform=\"translate(0 0.390625)\"/>\n       <use xlink:href=\"#Cmr10-30\" transform=\"translate(50 0.390625)\"/>\n      </g>\n     </g>\n    </g>\n    <g id=\"ytick_3\">\n     <g id=\"line2d_79\">\n      <path d=\"M 43.2 157.937194 \nL 442.619158 157.937194 \n\" clip-path=\"url(#p297b9dfe54)\" style=\"fill: none; stroke-dasharray: 1.85,0.8; stroke-dashoffset: 0; stroke: #b0b0b0; stroke-width: 0.5\"/>\n     </g>\n     <g id=\"line2d_80\">\n      <g>\n       <use xlink:href=\"#m501678215a\" x=\"43.2\" y=\"157.937194\" style=\"stroke: #000000; stroke-width: 0.8\"/>\n      </g>\n     </g>\n     <g id=\"text_9\">\n      <!-- $\\mathdefault{40}$ -->\n      <g transform=\"translate(26.2 161.406725) scale(0.1 -0.1)\">\n       <defs>\n        <path id=\"Cmr10-34\" d=\"M 178 1056 \nL 178 1281 \nL 2156 4231 \nQ 2178 4263 2222 4263 \nL 2316 4263 \nQ 2388 4263 2388 4191 \nL 2388 1281 \nL 3016 1281 \nL 3016 1056 \nL 2388 1056 \nL 2388 428 \nQ 2388 297 2575 261 \nQ 2763 225 3009 225 \nL 3009 0 \nL 1247 0 \nL 1247 225 \nQ 1494 225 1681 261 \nQ 1869 297 1869 428 \nL 1869 1056 \nL 178 1056 \nz\nM 391 1281 \nL 1906 1281 \nL 1906 3547 \nL 391 1281 \nz\n\" transform=\"scale(0.015625)\"/>\n       </defs>\n       <use xlink:href=\"#Cmr10-34\" transform=\"translate(0 0.390625)\"/>\n       <use xlink:href=\"#Cmr10-30\" transform=\"translate(50 0.390625)\"/>\n      </g>\n     </g>\n    </g>\n    <g id=\"ytick_4\">\n     <g id=\"line2d_81\">\n      <path d=\"M 43.2 116.630525 \nL 442.619158 116.630525 \n\" clip-path=\"url(#p297b9dfe54)\" style=\"fill: none; stroke-dasharray: 1.85,0.8; stroke-dashoffset: 0; stroke: #b0b0b0; stroke-width: 0.5\"/>\n     </g>\n     <g id=\"line2d_82\">\n      <g>\n       <use xlink:href=\"#m501678215a\" x=\"43.2\" y=\"116.630525\" style=\"stroke: #000000; stroke-width: 0.8\"/>\n      </g>\n     </g>\n     <g id=\"text_10\">\n      <!-- $\\mathdefault{60}$ -->\n      <g transform=\"translate(26.2 120.100056) scale(0.1 -0.1)\">\n       <defs>\n        <path id=\"Cmr10-36\" d=\"M 1600 -141 \nQ 1203 -141 937 70 \nQ 672 281 526 617 \nQ 381 953 325 1322 \nQ 269 1691 269 2069 \nQ 269 2575 466 3084 \nQ 663 3594 1045 3928 \nQ 1428 4263 1953 4263 \nQ 2172 4263 2361 4180 \nQ 2550 4097 2658 3936 \nQ 2766 3775 2766 3547 \nQ 2766 3416 2677 3327 \nQ 2588 3238 2456 3238 \nQ 2331 3238 2240 3328 \nQ 2150 3419 2150 3547 \nQ 2150 3672 2240 3762 \nQ 2331 3853 2456 3853 \nL 2491 3853 \nQ 2409 3969 2261 4023 \nQ 2113 4078 1953 4078 \nQ 1759 4078 1595 3993 \nQ 1431 3909 1300 3765 \nQ 1169 3622 1081 3448 \nQ 994 3275 945 3053 \nQ 897 2831 884 2637 \nQ 872 2444 872 2150 \nQ 984 2413 1190 2580 \nQ 1397 2747 1656 2747 \nQ 1941 2747 2175 2631 \nQ 2409 2516 2578 2311 \nQ 2747 2106 2836 1843 \nQ 2925 1581 2925 1313 \nQ 2925 938 2758 598 \nQ 2591 259 2287 59 \nQ 1984 -141 1600 -141 \nz\nM 1600 63 \nQ 1847 63 1997 175 \nQ 2147 288 2217 473 \nQ 2288 659 2305 848 \nQ 2322 1038 2322 1313 \nQ 2322 1675 2287 1931 \nQ 2253 2188 2100 2383 \nQ 1947 2578 1631 2578 \nQ 1372 2578 1205 2403 \nQ 1038 2228 961 1961 \nQ 884 1694 884 1447 \nQ 884 1363 891 1319 \nQ 891 1309 889 1303 \nQ 888 1297 884 1288 \nQ 884 1013 940 731 \nQ 997 450 1156 256 \nQ 1316 63 1600 63 \nz\n\" transform=\"scale(0.015625)\"/>\n       </defs>\n       <use xlink:href=\"#Cmr10-36\" transform=\"translate(0 0.390625)\"/>\n       <use xlink:href=\"#Cmr10-30\" transform=\"translate(50 0.390625)\"/>\n      </g>\n     </g>\n    </g>\n    <g id=\"ytick_5\">\n     <g id=\"line2d_83\">\n      <path d=\"M 43.2 75.323856 \nL 442.619158 75.323856 \n\" clip-path=\"url(#p297b9dfe54)\" style=\"fill: none; stroke-dasharray: 1.85,0.8; stroke-dashoffset: 0; stroke: #b0b0b0; stroke-width: 0.5\"/>\n     </g>\n     <g id=\"line2d_84\">\n      <g>\n       <use xlink:href=\"#m501678215a\" x=\"43.2\" y=\"75.323856\" style=\"stroke: #000000; stroke-width: 0.8\"/>\n      </g>\n     </g>\n     <g id=\"text_11\">\n      <!-- $\\mathdefault{80}$ -->\n      <g transform=\"translate(26.2 78.793388) scale(0.1 -0.1)\">\n       <defs>\n        <path id=\"Cmr10-38\" d=\"M 269 972 \nQ 269 1356 522 1651 \nQ 775 1947 1172 2144 \nL 934 2297 \nQ 716 2441 578 2680 \nQ 441 2919 441 3181 \nQ 441 3488 602 3734 \nQ 763 3981 1030 4122 \nQ 1297 4263 1600 4263 \nQ 1884 4263 2148 4147 \nQ 2413 4031 2583 3815 \nQ 2753 3600 2753 3303 \nQ 2753 3088 2651 2903 \nQ 2550 2719 2373 2572 \nQ 2197 2425 1997 2322 \nL 2363 2088 \nQ 2616 1922 2770 1653 \nQ 2925 1384 2925 1088 \nQ 2925 741 2739 456 \nQ 2553 172 2247 15 \nQ 1941 -141 1600 -141 \nQ 1269 -141 961 -6 \nQ 653 128 461 383 \nQ 269 638 269 972 \nz\nM 616 972 \nQ 616 719 755 509 \nQ 894 300 1122 181 \nQ 1350 63 1600 63 \nQ 1972 63 2275 280 \nQ 2578 497 2578 856 \nQ 2578 978 2529 1098 \nQ 2481 1219 2395 1317 \nQ 2309 1416 2203 1478 \nL 1344 2034 \nQ 1144 1928 976 1765 \nQ 809 1603 712 1400 \nQ 616 1197 616 972 \nz\nM 1056 2925 \nL 1831 2425 \nQ 2100 2581 2272 2803 \nQ 2444 3025 2444 3303 \nQ 2444 3519 2323 3698 \nQ 2203 3878 2009 3978 \nQ 1816 4078 1594 4078 \nQ 1400 4078 1203 4003 \nQ 1006 3928 878 3779 \nQ 750 3631 750 3431 \nQ 750 3131 1056 2925 \nz\n\" transform=\"scale(0.015625)\"/>\n       </defs>\n       <use xlink:href=\"#Cmr10-38\" transform=\"translate(0 0.390625)\"/>\n       <use xlink:href=\"#Cmr10-30\" transform=\"translate(50 0.390625)\"/>\n      </g>\n     </g>\n    </g>\n    <g id=\"ytick_6\">\n     <g id=\"line2d_85\">\n      <path d=\"M 43.2 34.017188 \nL 442.619158 34.017188 \n\" clip-path=\"url(#p297b9dfe54)\" style=\"fill: none; stroke-dasharray: 1.85,0.8; stroke-dashoffset: 0; stroke: #b0b0b0; stroke-width: 0.5\"/>\n     </g>\n     <g id=\"line2d_86\">\n      <g>\n       <use xlink:href=\"#m501678215a\" x=\"43.2\" y=\"34.017188\" style=\"stroke: #000000; stroke-width: 0.8\"/>\n      </g>\n     </g>\n     <g id=\"text_12\">\n      <!-- $\\mathdefault{100}$ -->\n      <g transform=\"translate(21.2 37.486719) scale(0.1 -0.1)\">\n       <use xlink:href=\"#Cmr10-31\" transform=\"translate(0 0.390625)\"/>\n       <use xlink:href=\"#Cmr10-30\" transform=\"translate(50 0.390625)\"/>\n       <use xlink:href=\"#Cmr10-30\" transform=\"translate(100 0.390625)\"/>\n      </g>\n     </g>\n    </g>\n    <g id=\"text_13\">\n     <!-- Percent passing [%] -->\n     <g transform=\"translate(14.7 180.154953) rotate(-90) scale(0.1 -0.1)\">\n      <defs>\n       <path id=\"Cmr10-50\" d=\"M 213 0 \nL 213 225 \nQ 872 225 872 428 \nL 872 3944 \nQ 872 4147 213 4147 \nL 213 4372 \nL 2491 4372 \nQ 2841 4372 3191 4228 \nQ 3541 4084 3767 3809 \nQ 3994 3534 3994 3169 \nQ 3994 2813 3766 2544 \nQ 3538 2275 3191 2136 \nQ 2844 1997 2491 1997 \nL 1466 1997 \nL 1466 428 \nQ 1466 225 2125 225 \nL 2125 0 \nL 213 0 \nz\nM 1447 2188 \nL 2316 2188 \nQ 2669 2188 2887 2289 \nQ 3106 2391 3207 2605 \nQ 3309 2819 3309 3169 \nQ 3309 3691 3079 3919 \nQ 2850 4147 2316 4147 \nL 1772 4147 \nQ 1656 4147 1592 4137 \nQ 1528 4128 1487 4083 \nQ 1447 4038 1447 3944 \nL 1447 2188 \nz\n\" transform=\"scale(0.015625)\"/>\n       <path id=\"Cmr10-63\" d=\"M 1594 -72 \nQ 1206 -72 890 129 \nQ 575 331 394 667 \nQ 213 1003 213 1381 \nQ 213 1759 392 2106 \nQ 572 2453 889 2661 \nQ 1206 2869 1594 2869 \nQ 1969 2869 2276 2722 \nQ 2584 2575 2584 2241 \nQ 2584 2116 2495 2023 \nQ 2406 1931 2278 1931 \nQ 2150 1931 2061 2023 \nQ 1972 2116 1972 2241 \nQ 1972 2353 2044 2436 \nQ 2116 2519 2222 2541 \nQ 2000 2681 1600 2681 \nQ 1294 2681 1106 2478 \nQ 919 2275 844 1975 \nQ 769 1675 769 1381 \nQ 769 1072 861 783 \nQ 953 494 1158 305 \nQ 1363 116 1672 116 \nQ 1975 116 2187 302 \nQ 2400 488 2478 788 \nQ 2478 825 2528 825 \nL 2606 825 \nQ 2625 825 2640 808 \nQ 2656 791 2656 769 \nL 2656 750 \nQ 2559 372 2271 150 \nQ 1984 -72 1594 -72 \nz\n\" transform=\"scale(0.015625)\"/>\n       <path id=\"Cmr10-6e\" d=\"M 191 0 \nL 191 225 \nQ 409 225 550 259 \nQ 691 294 691 428 \nL 691 2175 \nQ 691 2347 639 2423 \nQ 588 2500 491 2517 \nQ 394 2534 191 2534 \nL 191 2759 \nL 1119 2828 \nL 1119 2203 \nQ 1247 2478 1498 2653 \nQ 1750 2828 2047 2828 \nQ 2491 2828 2714 2615 \nQ 2938 2403 2938 1966 \nL 2938 428 \nQ 2938 294 3078 259 \nQ 3219 225 3438 225 \nL 3438 0 \nL 1972 0 \nL 1972 225 \nQ 2191 225 2331 259 \nQ 2472 294 2472 428 \nL 2472 1947 \nQ 2472 2259 2381 2461 \nQ 2291 2663 2009 2663 \nQ 1638 2663 1398 2366 \nQ 1159 2069 1159 1691 \nL 1159 428 \nQ 1159 294 1300 259 \nQ 1441 225 1656 225 \nL 1656 0 \nL 191 0 \nz\n\" transform=\"scale(0.015625)\"/>\n       <path id=\"Cmr10-70\" d=\"M 166 -1241 \nL 166 -1019 \nQ 384 -1019 525 -981 \nQ 666 -944 666 -813 \nL 666 2272 \nQ 666 2447 541 2490 \nQ 416 2534 166 2534 \nL 166 2759 \nL 1113 2828 \nL 1113 2431 \nQ 1288 2625 1520 2726 \nQ 1753 2828 2016 2828 \nQ 2394 2828 2697 2623 \nQ 3000 2419 3170 2086 \nQ 3341 1753 3341 1381 \nQ 3341 994 3152 659 \nQ 2963 325 2636 126 \nQ 2309 -72 1919 -72 \nQ 1453 -72 1131 306 \nL 1131 -813 \nQ 1131 -944 1273 -981 \nQ 1416 -1019 1631 -1019 \nL 1631 -1241 \nL 166 -1241 \nz\nM 1131 622 \nQ 1244 394 1444 245 \nQ 1644 97 1881 97 \nQ 2103 97 2273 215 \nQ 2444 334 2559 534 \nQ 2675 734 2729 954 \nQ 2784 1175 2784 1381 \nQ 2784 1638 2692 1936 \nQ 2600 2234 2411 2439 \nQ 2222 2644 1953 2644 \nQ 1694 2644 1476 2511 \nQ 1259 2378 1131 2150 \nL 1131 622 \nz\n\" transform=\"scale(0.015625)\"/>\n       <path id=\"Cmr10-73\" d=\"M 213 -19 \nL 213 1025 \nQ 213 1075 269 1075 \nL 347 1075 \nQ 384 1075 397 1025 \nQ 575 97 1259 97 \nQ 1563 97 1767 234 \nQ 1972 372 1972 659 \nQ 1972 866 1812 1011 \nQ 1653 1156 1434 1209 \nL 1006 1294 \nQ 791 1341 614 1437 \nQ 438 1534 325 1695 \nQ 213 1856 213 2069 \nQ 213 2350 361 2529 \nQ 509 2709 746 2789 \nQ 984 2869 1259 2869 \nQ 1588 2869 1831 2694 \nL 2016 2853 \nQ 2016 2869 2047 2869 \nL 2094 2869 \nQ 2113 2869 2128 2851 \nQ 2144 2834 2144 2816 \nL 2144 1978 \nQ 2144 1919 2094 1919 \nL 2016 1919 \nQ 1959 1919 1959 1978 \nQ 1959 2313 1773 2516 \nQ 1588 2719 1253 2719 \nQ 966 2719 755 2612 \nQ 544 2506 544 2247 \nQ 544 2069 695 1955 \nQ 847 1841 1050 1791 \nL 1484 1709 \nQ 1703 1659 1892 1540 \nQ 2081 1422 2192 1240 \nQ 2303 1059 2303 831 \nQ 2303 600 2223 429 \nQ 2144 259 2001 146 \nQ 1859 34 1665 -19 \nQ 1472 -72 1259 -72 \nQ 859 -72 575 197 \nL 341 -56 \nQ 341 -72 306 -72 \nL 269 -72 \nQ 213 -72 213 -19 \nz\n\" transform=\"scale(0.015625)\"/>\n       <path id=\"Cmr10-67\" d=\"M 178 -500 \nQ 178 -272 343 -101 \nQ 509 69 738 141 \nQ 609 238 542 384 \nQ 475 531 475 697 \nQ 475 997 666 1228 \nQ 372 1516 372 1888 \nQ 372 2088 458 2263 \nQ 544 2438 697 2566 \nQ 850 2694 1037 2761 \nQ 1225 2828 1422 2828 \nQ 1803 2828 2106 2606 \nQ 2238 2747 2417 2823 \nQ 2597 2900 2791 2900 \nQ 2928 2900 3015 2801 \nQ 3103 2703 3103 2566 \nQ 3103 2488 3043 2428 \nQ 2984 2369 2906 2369 \nQ 2825 2369 2765 2428 \nQ 2706 2488 2706 2566 \nQ 2706 2684 2784 2731 \nQ 2453 2731 2216 2503 \nQ 2331 2388 2401 2220 \nQ 2472 2053 2472 1888 \nQ 2472 1616 2322 1398 \nQ 2172 1181 1926 1061 \nQ 1681 941 1422 941 \nQ 1072 941 781 1131 \nQ 691 1006 691 850 \nQ 691 681 802 554 \nQ 913 428 1081 428 \nL 1606 428 \nQ 1988 428 2294 359 \nQ 2600 291 2808 84 \nQ 3016 -122 3016 -500 \nQ 3016 -781 2778 -967 \nQ 2541 -1153 2211 -1236 \nQ 1881 -1319 1600 -1319 \nQ 1316 -1319 984 -1236 \nQ 653 -1153 415 -967 \nQ 178 -781 178 -500 \nz\nM 538 -500 \nQ 538 -716 713 -861 \nQ 888 -1006 1134 -1076 \nQ 1381 -1147 1600 -1147 \nQ 1816 -1147 2062 -1076 \nQ 2309 -1006 2482 -861 \nQ 2656 -716 2656 -500 \nQ 2656 -166 2350 -67 \nQ 2044 31 1606 31 \nL 1081 31 \nQ 934 31 811 -39 \nQ 688 -109 613 -236 \nQ 538 -363 538 -500 \nz\nM 1422 1113 \nQ 1966 1113 1966 1888 \nQ 1966 2222 1850 2439 \nQ 1734 2656 1422 2656 \nQ 1109 2656 993 2439 \nQ 878 2222 878 1888 \nQ 878 1675 922 1503 \nQ 966 1331 1084 1222 \nQ 1203 1113 1422 1113 \nz\n\" transform=\"scale(0.015625)\"/>\n       <path id=\"Cmr10-25\" d=\"M 891 -231 \nQ 891 -194 909 -166 \nL 3809 4153 \nQ 3425 3938 2963 3938 \nQ 2463 3938 2003 4197 \nQ 2131 3891 2131 3513 \nQ 2131 3306 2082 3086 \nQ 2034 2866 1934 2670 \nQ 1834 2475 1676 2348 \nQ 1519 2222 1306 2222 \nQ 1006 2222 790 2422 \nQ 575 2622 467 2922 \nQ 359 3222 359 3513 \nQ 359 3797 467 4098 \nQ 575 4400 790 4600 \nQ 1006 4800 1306 4800 \nQ 1544 4800 1741 4609 \nQ 2256 4103 2963 4103 \nQ 3341 4103 3669 4270 \nQ 3997 4438 4206 4750 \nQ 4238 4800 4306 4800 \nQ 4363 4800 4398 4765 \nQ 4434 4731 4434 4672 \nQ 4434 4638 4416 4609 \nL 1113 -319 \nQ 1084 -359 1019 -359 \nQ 966 -359 928 -318 \nQ 891 -278 891 -231 \nz\nM 1306 2388 \nQ 1622 2388 1784 2764 \nQ 1947 3141 1947 3513 \nQ 1947 3722 1880 3989 \nQ 1813 4256 1669 4445 \nQ 1525 4634 1306 4634 \nQ 988 4634 884 4279 \nQ 781 3925 781 3506 \nQ 781 3103 887 2745 \nQ 994 2388 1306 2388 \nz\nM 4141 -359 \nQ 3841 -359 3625 -159 \nQ 3409 41 3301 342 \nQ 3194 644 3194 934 \nQ 3194 1219 3301 1520 \nQ 3409 1822 3625 2022 \nQ 3841 2222 4141 2222 \nQ 4419 2222 4606 2011 \nQ 4794 1800 4880 1503 \nQ 4966 1206 4966 934 \nQ 4966 728 4917 509 \nQ 4869 291 4770 92 \nQ 4672 -106 4514 -232 \nQ 4356 -359 4141 -359 \nz\nM 4141 -191 \nQ 4356 -191 4503 1 \nQ 4650 194 4715 459 \nQ 4781 725 4781 934 \nQ 4781 1303 4618 1678 \nQ 4456 2053 4141 2053 \nQ 3822 2053 3719 1698 \nQ 3616 1344 3616 928 \nQ 3616 522 3722 165 \nQ 3828 -191 4141 -191 \nz\n\" transform=\"scale(0.015625)\"/>\n      </defs>\n      <use xlink:href=\"#Cmr10-50\"/>\n      <use xlink:href=\"#Cmr10-65\" x=\"68.017578\"/>\n      <use xlink:href=\"#Cmr10-72\" x=\"112.402344\"/>\n      <use xlink:href=\"#Cmr10-63\" x=\"151.513672\"/>\n      <use xlink:href=\"#Cmr10-65\" x=\"195.898438\"/>\n      <use xlink:href=\"#Cmr10-6e\" x=\"240.283203\"/>\n      <use xlink:href=\"#Cmr10-74\" x=\"295.800781\"/>\n      <use xlink:href=\"#Cmr10-20\" x=\"334.619141\"/>\n      <use xlink:href=\"#Cmr10-70\" x=\"367.919922\"/>\n      <use xlink:href=\"#Cmr10-61\" x=\"423.4375\"/>\n      <use xlink:href=\"#Cmr10-73\" x=\"473.4375\"/>\n      <use xlink:href=\"#Cmr10-73\" x=\"512.841797\"/>\n      <use xlink:href=\"#Cmr10-69\" x=\"552.246094\"/>\n      <use xlink:href=\"#Cmr10-6e\" x=\"579.931641\"/>\n      <use xlink:href=\"#Cmr10-67\" x=\"635.449219\"/>\n      <use xlink:href=\"#Cmr10-20\" x=\"685.449219\"/>\n      <use xlink:href=\"#Cmr10-5b\" x=\"718.75\"/>\n      <use xlink:href=\"#Cmr10-25\" x=\"746.435547\"/>\n      <use xlink:href=\"#Cmr10-5d\" x=\"829.736328\"/>\n     </g>\n    </g>\n   </g>\n   <g id=\"line2d_87\">\n    <path d=\"M 62.893988 34.017188 \nL 72.570917 34.017188 \nL 85.046648 34.017188 \nL 102.630204 34.017188 \nL 114.992262 34.017188 \nL 132.689491 34.017188 \nL 175.247279 34.017188 \nL 205.306566 35.603608 \nL 212.850292 36.443478 \nL 265.791103 56.27374 \nL 280.529942 66.678795 \nL 325.47089 107.739102 \nL 355.822208 154.631839 \n\" clip-path=\"url(#p297b9dfe54)\" style=\"fill: none; stroke: #0000ff; stroke-width: 1.5; stroke-linecap: square\"/>\n   </g>\n   <g id=\"patch_3\">\n    <path d=\"M 43.2 240.550531 \nL 43.2 34.017188 \n\" style=\"fill: none; stroke: #000000; stroke-width: 1.5; stroke-linejoin: miter; stroke-linecap: square\"/>\n   </g>\n   <g id=\"patch_4\">\n    <path d=\"M 442.619158 240.550531 \nL 442.619158 34.017188 \n\" style=\"fill: none; stroke: #000000; stroke-width: 0.8; stroke-linejoin: miter; stroke-linecap: square\"/>\n   </g>\n   <g id=\"patch_5\">\n    <path d=\"M 43.2 240.550531 \nL 442.619158 240.550531 \n\" style=\"fill: none; stroke: #000000; stroke-width: 1.5; stroke-linejoin: miter; stroke-linecap: square\"/>\n   </g>\n   <g id=\"patch_6\">\n    <path d=\"M 43.2 34.017188 \nL 442.619158 34.017188 \n\" style=\"fill: none; stroke: #000000; stroke-width: 1.5; stroke-linejoin: miter; stroke-linecap: square\"/>\n   </g>\n  </g>\n  <g id=\"axes_2\">\n   <g id=\"matplotlib.axis_3\">\n    <g id=\"xtick_38\">\n     <g id=\"line2d_88\">\n      <defs>\n       <path id=\"m419d2cd1fb\" d=\"M 0 0 \nL 0 -3.5 \n\" style=\"stroke: #000000; stroke-width: 0.8\"/>\n      </defs>\n      <g>\n       <use xlink:href=\"#m419d2cd1fb\" x=\"175.338481\" y=\"34.017188\" style=\"stroke: #000000; stroke-width: 0.8\"/>\n      </g>\n     </g>\n     <g id=\"text_14\">\n      <!-- 4 -->\n      <g transform=\"translate(172.838481 25.078125) scale(0.1 -0.1)\">\n       <use xlink:href=\"#Cmr10-34\"/>\n      </g>\n     </g>\n    </g>\n    <g id=\"xtick_39\">\n     <g id=\"line2d_89\">\n      <g>\n       <use xlink:href=\"#m419d2cd1fb\" x=\"212.850292\" y=\"34.017188\" style=\"stroke: #000000; stroke-width: 0.8\"/>\n      </g>\n     </g>\n     <g id=\"text_15\">\n      <!-- 10 -->\n      <g transform=\"translate(207.850292 25.078125) scale(0.1 -0.1)\">\n       <use xlink:href=\"#Cmr10-31\"/>\n       <use xlink:href=\"#Cmr10-30\" x=\"50\"/>\n      </g>\n     </g>\n    </g>\n    <g id=\"xtick_40\">\n     <g id=\"line2d_90\">\n      <g>\n       <use xlink:href=\"#m419d2cd1fb\" x=\"250.470655\" y=\"34.017188\" style=\"stroke: #000000; stroke-width: 0.8\"/>\n      </g>\n     </g>\n     <g id=\"text_16\">\n      <!-- 20 -->\n      <g transform=\"translate(245.470655 25.078125) scale(0.1 -0.1)\">\n       <use xlink:href=\"#Cmr10-32\"/>\n       <use xlink:href=\"#Cmr10-30\" x=\"50\"/>\n      </g>\n     </g>\n    </g>\n    <g id=\"xtick_41\">\n     <g id=\"line2d_91\">\n      <g>\n       <use xlink:href=\"#m419d2cd1fb\" x=\"280.529942\" y=\"34.017188\" style=\"stroke: #000000; stroke-width: 0.8\"/>\n      </g>\n     </g>\n     <g id=\"text_17\">\n      <!-- 40 -->\n      <g transform=\"translate(275.529942 25.078125) scale(0.1 -0.1)\">\n       <use xlink:href=\"#Cmr10-34\"/>\n       <use xlink:href=\"#Cmr10-30\" x=\"50\"/>\n      </g>\n     </g>\n    </g>\n    <g id=\"xtick_42\">\n     <g id=\"line2d_92\">\n      <g>\n       <use xlink:href=\"#m419d2cd1fb\" x=\"325.47089\" y=\"34.017188\" style=\"stroke: #000000; stroke-width: 0.8\"/>\n      </g>\n     </g>\n     <g id=\"text_18\">\n      <!-- 100 -->\n      <g transform=\"translate(317.97089 25.078125) scale(0.1 -0.1)\">\n       <use xlink:href=\"#Cmr10-31\"/>\n       <use xlink:href=\"#Cmr10-30\" x=\"50\"/>\n       <use xlink:href=\"#Cmr10-30\" x=\"100\"/>\n      </g>\n     </g>\n    </g>\n    <g id=\"xtick_43\">\n     <g id=\"line2d_93\">\n      <g>\n       <use xlink:href=\"#m419d2cd1fb\" x=\"355.822208\" y=\"34.017188\" style=\"stroke: #000000; stroke-width: 0.8\"/>\n      </g>\n     </g>\n     <g id=\"text_19\">\n      <!-- 200 -->\n      <g transform=\"translate(348.322208 25.078125) scale(0.1 -0.1)\">\n       <use xlink:href=\"#Cmr10-32\"/>\n       <use xlink:href=\"#Cmr10-30\" x=\"50\"/>\n       <use xlink:href=\"#Cmr10-30\" x=\"100\"/>\n      </g>\n     </g>\n    </g>\n    <g id=\"text_20\">\n     <!-- Sieve N$^\\circ$ -->\n     <g transform=\"translate(222.709579 14.139063) scale(0.1 -0.1)\">\n      <defs>\n       <path id=\"Cmr10-53\" d=\"M 359 -91 \nL 359 1403 \nQ 359 1453 416 1453 \nL 494 1453 \nQ 513 1453 528 1437 \nQ 544 1422 544 1403 \nQ 544 775 933 429 \nQ 1322 84 1953 84 \nQ 2175 84 2362 212 \nQ 2550 341 2654 548 \nQ 2759 756 2759 978 \nQ 2759 1172 2681 1355 \nQ 2603 1538 2456 1672 \nQ 2309 1806 2125 1850 \nL 1294 2053 \nQ 881 2163 620 2502 \nQ 359 2841 359 3263 \nQ 359 3594 528 3884 \nQ 697 4175 983 4344 \nQ 1269 4513 1600 4513 \nQ 2241 4513 2619 4078 \nL 2881 4494 \nQ 2900 4513 2925 4513 \nL 2969 4513 \nQ 2988 4513 3005 4498 \nQ 3022 4484 3022 4459 \nL 3022 2975 \nQ 3022 2919 2969 2919 \nL 2894 2919 \nQ 2834 2919 2834 2975 \nQ 2834 3138 2779 3331 \nQ 2725 3525 2628 3703 \nQ 2531 3881 2419 3994 \nQ 2109 4306 1600 4306 \nQ 1381 4306 1197 4195 \nQ 1013 4084 903 3893 \nQ 794 3703 794 3494 \nQ 794 3219 964 2995 \nQ 1134 2772 1409 2700 \nL 2241 2497 \nQ 2447 2447 2630 2317 \nQ 2813 2188 2934 2016 \nQ 3056 1844 3125 1633 \nQ 3194 1422 3194 1197 \nQ 3194 850 3034 542 \nQ 2875 234 2586 46 \nQ 2297 -141 1953 -141 \nQ 1741 -141 1519 -94 \nQ 1297 -47 1109 50 \nQ 922 147 769 300 \nL 500 -122 \nQ 481 -141 453 -141 \nL 416 -141 \nQ 359 -141 359 -91 \nz\n\" transform=\"scale(0.015625)\"/>\n       <path id=\"Cmr10-76\" d=\"M 1563 0 \nL 628 2350 \nQ 569 2469 445 2501 \nQ 322 2534 122 2534 \nL 122 2759 \nL 1466 2759 \nL 1466 2534 \nQ 1106 2534 1106 2381 \nQ 1106 2356 1113 2344 \nL 1831 538 \nL 2478 2169 \nQ 2497 2219 2497 2272 \nQ 2497 2394 2405 2464 \nQ 2313 2534 2188 2534 \nL 2188 2759 \nL 3250 2759 \nL 3250 2534 \nQ 3053 2534 2904 2443 \nQ 2756 2353 2675 2175 \nL 1813 0 \nQ 1788 -72 1709 -72 \nL 1663 -72 \nQ 1584 -72 1563 0 \nz\n\" transform=\"scale(0.015625)\"/>\n       <path id=\"Cmr10-4e\" d=\"M 197 0 \nL 197 225 \nQ 856 225 856 603 \nL 856 4109 \nQ 647 4147 197 4147 \nL 197 4372 \nL 1422 4372 \nQ 1453 4372 1466 4347 \nL 3731 1013 \nL 3731 3769 \nQ 3731 4147 3072 4147 \nL 3072 4372 \nL 4594 4372 \nL 4594 4147 \nQ 3938 4147 3938 3769 \nL 3938 56 \nQ 3938 38 3913 19 \nQ 3888 0 3872 0 \nL 3794 0 \nQ 3763 0 3750 25 \nL 1063 3981 \nL 1063 603 \nQ 1063 225 1722 225 \nL 1722 0 \nL 197 0 \nz\n\" transform=\"scale(0.015625)\"/>\n       <path id=\"Cmsy10-b1\" d=\"M 1600 359 \nQ 1269 359 983 526 \nQ 697 694 528 984 \nQ 359 1275 359 1600 \nQ 359 1925 528 2215 \nQ 697 2506 983 2673 \nQ 1269 2841 1600 2841 \nQ 1931 2841 2215 2672 \nQ 2500 2503 2667 2214 \nQ 2834 1925 2834 1600 \nQ 2834 1275 2667 986 \nQ 2500 697 2215 528 \nQ 1931 359 1600 359 \nz\nM 1600 616 \nQ 2000 616 2289 908 \nQ 2578 1200 2578 1600 \nQ 2578 1856 2445 2086 \nQ 2313 2316 2088 2450 \nQ 1863 2584 1600 2584 \nQ 1403 2584 1225 2507 \nQ 1047 2431 906 2290 \nQ 766 2150 691 1973 \nQ 616 1797 616 1600 \nQ 616 1200 905 908 \nQ 1194 616 1600 616 \nz\n\" transform=\"scale(0.015625)\"/>\n      </defs>\n      <use xlink:href=\"#Cmr10-53\" transform=\"translate(0 0.484375)\"/>\n      <use xlink:href=\"#Cmr10-69\" transform=\"translate(55.517578 0.484375)\"/>\n      <use xlink:href=\"#Cmr10-65\" transform=\"translate(83.203125 0.484375)\"/>\n      <use xlink:href=\"#Cmr10-76\" transform=\"translate(127.587891 0.484375)\"/>\n      <use xlink:href=\"#Cmr10-65\" transform=\"translate(180.273438 0.484375)\"/>\n      <use xlink:href=\"#Cmr10-20\" transform=\"translate(224.658203 0.484375)\"/>\n      <use xlink:href=\"#Cmr10-4e\" transform=\"translate(257.958984 0.484375)\"/>\n      <use xlink:href=\"#Cmsy10-b1\" transform=\"translate(349.714141 38.748438) scale(0.7)\"/>\n     </g>\n    </g>\n   </g>\n   <g id=\"line2d_94\">\n    <defs>\n     <path id=\"m602434fcde\" d=\"M 0 1.5 \nC 0.397805 1.5 0.77937 1.341951 1.06066 1.06066 \nC 1.341951 0.77937 1.5 0.397805 1.5 0 \nC 1.5 -0.397805 1.341951 -0.77937 1.06066 -1.06066 \nC 0.77937 -1.341951 0.397805 -1.5 0 -1.5 \nC -0.397805 -1.5 -0.77937 -1.341951 -1.06066 -1.06066 \nC -1.341951 -0.77937 -1.5 -0.397805 -1.5 0 \nC -1.5 0.397805 -1.341951 0.77937 -1.06066 1.06066 \nC -0.77937 1.341951 -0.397805 1.5 0 1.5 \nz\n\" style=\"stroke: #0000ff\"/>\n    </defs>\n    <g clip-path=\"url(#p297b9dfe54)\">\n     <use xlink:href=\"#m602434fcde\" x=\"62.893988\" y=\"34.017188\" style=\"fill: #0000ff; stroke: #0000ff\"/>\n     <use xlink:href=\"#m602434fcde\" x=\"72.570917\" y=\"34.017188\" style=\"fill: #0000ff; stroke: #0000ff\"/>\n     <use xlink:href=\"#m602434fcde\" x=\"85.046648\" y=\"34.017188\" style=\"fill: #0000ff; stroke: #0000ff\"/>\n     <use xlink:href=\"#m602434fcde\" x=\"102.630204\" y=\"34.017188\" style=\"fill: #0000ff; stroke: #0000ff\"/>\n     <use xlink:href=\"#m602434fcde\" x=\"114.992262\" y=\"34.017188\" style=\"fill: #0000ff; stroke: #0000ff\"/>\n     <use xlink:href=\"#m602434fcde\" x=\"132.689491\" y=\"34.017188\" style=\"fill: #0000ff; stroke: #0000ff\"/>\n     <use xlink:href=\"#m602434fcde\" x=\"175.247279\" y=\"34.017188\" style=\"fill: #0000ff; stroke: #0000ff\"/>\n     <use xlink:href=\"#m602434fcde\" x=\"205.306566\" y=\"35.603608\" style=\"fill: #0000ff; stroke: #0000ff\"/>\n     <use xlink:href=\"#m602434fcde\" x=\"212.850292\" y=\"36.443478\" style=\"fill: #0000ff; stroke: #0000ff\"/>\n     <use xlink:href=\"#m602434fcde\" x=\"265.791103\" y=\"56.27374\" style=\"fill: #0000ff; stroke: #0000ff\"/>\n     <use xlink:href=\"#m602434fcde\" x=\"280.529942\" y=\"66.678795\" style=\"fill: #0000ff; stroke: #0000ff\"/>\n     <use xlink:href=\"#m602434fcde\" x=\"325.47089\" y=\"107.739102\" style=\"fill: #0000ff; stroke: #0000ff\"/>\n     <use xlink:href=\"#m602434fcde\" x=\"355.822208\" y=\"154.631839\" style=\"fill: #0000ff; stroke: #0000ff\"/>\n    </g>\n   </g>\n   <g id=\"patch_7\">\n    <path d=\"M 43.2 240.550531 \nL 43.2 34.017188 \n\" style=\"fill: none; stroke: #000000; stroke-width: 0.8; stroke-linejoin: miter; stroke-linecap: square\"/>\n   </g>\n   <g id=\"patch_8\">\n    <path d=\"M 442.619158 240.550531 \nL 442.619158 34.017188 \n\" style=\"fill: none; stroke: #000000; stroke-width: 0.8; stroke-linejoin: miter; stroke-linecap: square\"/>\n   </g>\n   <g id=\"patch_9\">\n    <path d=\"M 43.2 240.550531 \nL 442.619158 240.550531 \n\" style=\"fill: none; stroke: #000000; stroke-width: 0.8; stroke-linejoin: miter; stroke-linecap: square\"/>\n   </g>\n   <g id=\"patch_10\">\n    <path d=\"M 43.2 34.017188 \nL 442.619158 34.017188 \n\" style=\"fill: none; stroke: #000000; stroke-width: 0.8; stroke-linejoin: miter; stroke-linecap: square\"/>\n   </g>\n  </g>\n </g>\n <defs>\n  <clipPath id=\"p297b9dfe54\">\n   <rect x=\"43.2\" y=\"34.017188\" width=\"399.419158\" height=\"206.533344\"/>\n  </clipPath>\n </defs>\n</svg>\n",
      "text/plain": [
       "<Figure size 650x400 with 2 Axes>"
      ]
     },
     "metadata": {},
     "output_type": "display_data"
    }
   ],
   "source": [
    "fig = plot_granulometric_curve(df_full, figsize=[6.5, 4])"
   ]
  },
  {
   "cell_type": "code",
   "execution_count": 11,
   "metadata": {},
   "outputs": [
    {
     "data": {
      "application/vnd.jupyter.widget-view+json": {
       "model_id": "760dd684a67f40dab3db0b4f55b9f123",
       "version_major": 2,
       "version_minor": 0
      },
      "text/plain": [
       "interactive(children=(FloatSlider(value=50.0, description='Auxiliar line', step=1.0, style=SliderStyle(descrip…"
      ]
     },
     "metadata": {},
     "output_type": "display_data"
    },
    {
     "data": {
      "text/plain": [
       "<function __main__.get_Cc_Cu(df, hztl, D60=1, D30=1, D10=1)>"
      ]
     },
     "execution_count": 11,
     "metadata": {},
     "output_type": "execute_result"
    }
   ],
   "source": [
    "# Imagen interactiva\n",
    "style = {'description_width': '100px'}\n",
    "interact(  # Interactive widgets\n",
    "    get_Cc_Cu,\n",
    "    df=fixed(df_full),\n",
    "    hztl=widgets.FloatSlider(value=50, step=1, min=0, max=100, description=\"Auxiliar line\", style=style),\n",
    "    D60=widgets.FloatLogSlider(value=1, step=0.1, min=-2, max=2, base=10, description=\"D60\", style=style),\n",
    "    D30=widgets.FloatLogSlider(value=1, step=0.1, min=-2, max=2, base=10, description=\"D30\", style=style),\n",
    "    D10=widgets.FloatLogSlider(value=1, step=0.1, min=-2, max=2, base=10, description=\"D10\", style=style),\n",
    "    )"
   ]
  }
 ],
 "metadata": {
  "kernelspec": {
   "display_name": "EAFIT-env",
   "language": "python",
   "name": "python3"
  },
  "language_info": {
   "codemirror_mode": {
    "name": "ipython",
    "version": 3
   },
   "file_extension": ".py",
   "mimetype": "text/x-python",
   "name": "python",
   "nbconvert_exporter": "python",
   "pygments_lexer": "ipython3",
   "version": "3.9.13"
  },
  "orig_nbformat": 4,
  "vscode": {
   "interpreter": {
    "hash": "ef8c03790f2d0da309ee3dc20d7c1e218681fdbff540ce14f81a0ed1380bf99b"
   }
  }
 },
 "nbformat": 4,
 "nbformat_minor": 2
}
